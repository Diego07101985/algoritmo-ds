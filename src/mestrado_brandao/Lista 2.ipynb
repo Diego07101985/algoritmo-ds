{
 "cells": [
  {
   "cell_type": "markdown",
   "id": "1bc8a439",
   "metadata": {},
   "source": [
    "# Lista de Exercícios 2 – Árvores Binárias e Tabelas de Dispersão"
   ]
  },
  {
   "cell_type": "markdown",
   "id": "0d5b9113",
   "metadata": {},
   "source": [
    "### Centro Federal de Educação Tecnológica Celso Suckow da Fonseca (CEFET-RJ)\n",
    "### Programa de Pós Graduação em Ciência da Computação (PPCIC)\n",
    "##### Disciplina:  Análise e Projetos de Algoritmos\n",
    "##### Professor:  Diego Nunes Brandão\n",
    "##### Aluno:  Diego Silva de Salles"
   ]
  },
  {
   "cell_type": "markdown",
   "id": "41687531",
   "metadata": {},
   "source": [
    "## Arvores"
   ]
  },
  {
   "cell_type": "markdown",
   "id": "06c16e68",
   "metadata": {},
   "source": [
    "### 1- Quantos antecedentes tem um nó no nível n em uma árvore binária? Prove!"
   ]
  },
  {
   "cell_type": "markdown",
   "id": "78f75ba3",
   "metadata": {},
   "source": [
    "##### Arvore Binaria:\n",
    "\n",
    "##### Definições:\n",
    "- Cada nó pode ter no maximo 2 filhos e no mínimo 0\n",
    "- A raiz da arvore tem altura 0\n",
    "- O nivel dos outros nós é igual ao nivel do no pai mais 1\n",
    "\n",
    "- A altura da arvore é medido pelo nivel maximo atingido por uma folha de uma arvore. Portanto, o percurso da raiz ate a folha mais distante.\n",
    "\n",
    "- Caminho ${n_i}$ a ${n_k}$  onde ${n_i}$ é antedecedente , pode ser considerado a sequencia de nois para se alcancar o  ${n_i}$  até ${n_k}$ . Entao  se ${n_i}$ antecede ${n_k}$, logicamente ${n_k}$ é descendente de ${n_i}$\n",
    "\n",
    "##### Resposta:\n",
    "\n",
    "#### Sendo uma arvore binaria cheia, onde as folhas estao no mesmo nivel, e sabendo que o limite dessa arvore é de duas folhas por nó(por definicao). Observa se que na altura n a quantidade de nós vai ser igual a ${2^n}$ . Se uma arvore binaria tiver k nós, no nivel superior ela podera conter até  2k nós. Admitindo que uma árvore com k nós tem k — 1 arestas e considerando aresta com k + 1 nós. O número total de nós em uma árvore binária completa  com profundidade igual a  𝑛  é a resultante da  soma do número de nós em cada nível  da raiz (0)  até  𝑛 . Logo:\n",
    "$$N = \\sum^n_i 2^i = 2^{n+1}-1$$\n",
    "\n",
    "##### Por fim uma árvore binária terá no máximo $2^n - 1$ antecedentes ."
   ]
  },
  {
   "cell_type": "markdown",
   "id": "17f1cb00",
   "metadata": {},
   "source": [
    "### 2- Escreva um programa que implementa funções para: "
   ]
  },
  {
   "cell_type": "code",
   "execution_count": 5,
   "id": "6e514330",
   "metadata": {},
   "outputs": [
    {
     "name": "stdout",
     "output_type": "stream",
     "text": [
      "5\n"
     ]
    }
   ],
   "source": [
    "class Noh:\n",
    "    def __init__(self, key, no_dir=None, no_esq=None):\n",
    "        self.key = key\n",
    "        self.no_dir = no_dir\n",
    "        self.no_esq = no_esq\n",
    "        \n",
    "    def __repr__(self):\n",
    "        return f'{self.key}'\n",
    "\n",
    "    \n",
    "class Tree:\n",
    "    def __init__(self):\n",
    "        self.root = None\n",
    "    \n",
    "\n",
    "    def get_number_of_nohs(self,root):\n",
    "        if not root:\n",
    "            return 0\n",
    "        \n",
    "        return self.get_number_of_nohs(root.no_dir)+1+self.get_number_of_nohs(root.no_esq)\n",
    "    \n",
    "    \n",
    "    def get_number_of_leaves(self, root):\n",
    "        if not root:\n",
    "            return 0\n",
    "        \n",
    "        if not root.no_esq or not root.no_dir:\n",
    "            return 1\n",
    "        else:\n",
    "            return self.get_number_of_leaves(root.no_esq) + self.get_number_of_leaves(root.no_dir)\n",
    "        \n",
    "\n",
    "    def get_children_right(self, root):\n",
    "        if not root:\n",
    "            return 0\n",
    "        if root.no_dir:\n",
    "            return 1 + self.get_children_right(root.no_dir) + self.get_children_right(root.no_esq);\n",
    "        \n",
    "        else:\n",
    "            return self.get_children_right(root.no_esq)\n",
    "        \n",
    "    def get_height(self, root):\n",
    "        if not root:\n",
    "            return 0\n",
    "         \n",
    "        left_height = self.get_height(root.no_esq)\n",
    "        right_height = self.get_height(root.no_dir)\n",
    "        \n",
    "        return max(left_height,right_height) + 1\n",
    "        \n",
    "        \n",
    "        \n",
    "    def get_number_of_leaves(self, root):\n",
    "        if not root:\n",
    "            return 0\n",
    "        \n",
    "        if not root.no_esq or not root.no_dir:\n",
    "            return 1\n",
    "        else:\n",
    "            return self.get_number_of_leaves(root.no_esq) + self.get_number_of_leaves(root.no_dir)\n",
    "        \n",
    "                \n",
    "    def get_root(self):\n",
    "        return self.root\n",
    "    \n",
    "    \n",
    "    def insert(self, key):\n",
    "        if(self.root == None):\n",
    "            self.root = Noh(key,None,None)\n",
    "        else:\n",
    "            self._insert(key, self.root)\n",
    "  \n",
    "    def _insert(self, key, node):\n",
    "        \n",
    "        if(key < node.key):\n",
    "            if(node.no_esq != None):\n",
    "                self._insert(key, node.no_esq)\n",
    "            else:\n",
    "                node.no_esq = Noh(key)\n",
    "                \n",
    "        else:\n",
    "            if(node.no_dir != None):\n",
    "                self._insert(key, node.no_dir)\n",
    "            else:\n",
    "                node.no_dir = Noh(key)\n",
    "                    \n",
    "    def search(self, key, root):\n",
    "        if root == None:\n",
    "            return\n",
    "        \n",
    "        if root.key == key:\n",
    "            return root\n",
    "        if root.key > key:\n",
    "            return(self.search(key,root.no_esq))\n",
    "            \n",
    "        return(self.search(key,root.no_dir))\n",
    "                    \n",
    "    def print_tree(self,root):\n",
    "        response = \"\"\n",
    "        if(root != None):\n",
    "            response += str(root.key)\n",
    "            response += \"(\"\n",
    "            response += self.print_tree(root.no_esq)\n",
    "            response += self.print_tree(root.no_dir)\n",
    "            response += \")\"\n",
    "            \n",
    "            return response\n",
    "        return response\n",
    "    \n",
    "tree = Tree()\n",
    "tree.insert(5)\n",
    "tree.insert(2)\n",
    "tree.insert(8)\n",
    "tree.insert(9)\n",
    "tree.insert(6)\n",
    "\n",
    "\n",
    "print(tree.get_root())"
   ]
  },
  {
   "cell_type": "markdown",
   "id": "de6e99fa",
   "metadata": {},
   "source": [
    "#### a) contar o número de nós em uma árvore binária; "
   ]
  },
  {
   "cell_type": "code",
   "execution_count": 6,
   "id": "09a0827a",
   "metadata": {},
   "outputs": [
    {
     "data": {
      "text/plain": [
       "5"
      ]
     },
     "execution_count": 6,
     "metadata": {},
     "output_type": "execute_result"
    }
   ],
   "source": [
    "tree.get_number_of_nohs(tree.get_root())"
   ]
  },
  {
   "cell_type": "markdown",
   "id": "0e0643ad",
   "metadata": {},
   "source": [
    "#### b) o número de folhas; "
   ]
  },
  {
   "cell_type": "code",
   "execution_count": 7,
   "id": "22455881",
   "metadata": {},
   "outputs": [
    {
     "name": "stdout",
     "output_type": "stream",
     "text": [
      "3\n"
     ]
    }
   ],
   "source": [
    "print(tree.get_number_of_leaves(tree.get_root()))"
   ]
  },
  {
   "cell_type": "markdown",
   "id": "41db8f69",
   "metadata": {},
   "source": [
    "#### c) o número de filhos à direita;"
   ]
  },
  {
   "cell_type": "code",
   "execution_count": 8,
   "id": "255bda48",
   "metadata": {},
   "outputs": [
    {
     "data": {
      "text/plain": [
       "2"
      ]
     },
     "execution_count": 8,
     "metadata": {},
     "output_type": "execute_result"
    }
   ],
   "source": [
    "tree.get_children_right(tree.get_root())"
   ]
  },
  {
   "cell_type": "markdown",
   "id": "b1d89ed7",
   "metadata": {},
   "source": [
    "#### d) a altura da árvore."
   ]
  },
  {
   "cell_type": "code",
   "execution_count": 9,
   "id": "c07275d2",
   "metadata": {
    "scrolled": true
   },
   "outputs": [
    {
     "data": {
      "text/plain": [
       "3"
      ]
     },
     "execution_count": 9,
     "metadata": {},
     "output_type": "execute_result"
    }
   ],
   "source": [
    "tree.get_height(tree.get_root())"
   ]
  },
  {
   "cell_type": "markdown",
   "id": "09e4d130",
   "metadata": {},
   "source": [
    "### 3- Escreva um programa de referência cruzada que construa uma árvore binária de pesquisa, com todas as palavras incluídas a partir de um arquivo de texto, e registre os números das linhas nas quais essas palavras foram usadas. Esses números de linhas devem ser armazenados em listas ligadas associadas aos nós da árvore. Depois de o arquivo de entrada ter sido processado, imprima em ordem alfabética todas as palavras do arquivo texto, junto com a lista de números de linhas correspondente nas quais as palavras ocorrem."
   ]
  },
  {
   "cell_type": "markdown",
   "id": "c2eca271",
   "metadata": {},
   "source": [
    "##### Lista Linkada"
   ]
  },
  {
   "cell_type": "code",
   "execution_count": 10,
   "id": "9f5f9ab6",
   "metadata": {},
   "outputs": [],
   "source": [
    "import numbers\n",
    "class Noh:\n",
    "    def __init__(self, data=0, next_noh=None):\n",
    "        self.data = data\n",
    "        self.next = next_noh\n",
    "\n",
    "    def __repr__(self):\n",
    "        return f'{self.data}'\n",
    "\n",
    "class LinkedList:\n",
    "    def __init__(self):\n",
    "        self.head = None\n",
    "\n",
    "    def __repr__(self):\n",
    "        return f\"[{str(self.head)}]\"\n",
    "    \n",
    "    def insert_in_begin(self, new_data):\n",
    "        new_noh = Noh(new_data)\n",
    "\n",
    "        new_noh.next = self.head\n",
    "        self.head = new_noh\n",
    "    \n",
    "    def insert_at_the_end(self, new_data):\n",
    "        if self.head:\n",
    "            chain  = self.head\n",
    "            while chain.next:\n",
    "                chain = chain.next\n",
    "\n",
    "            if self.search(chain.data):\n",
    "                new_noh = Noh(new_data)\n",
    "                new_noh.next = chain.next\n",
    "                chain.next = new_noh\n",
    "        else:\n",
    "            self.insert_in_begin(new_data)\n",
    "            \n",
    "    def search(self, number):\n",
    "        chain = self.head\n",
    "        while  chain and chain.data != number:\n",
    "            chain = chain.next\n",
    "        \n",
    "        return chain\n",
    "    \n",
    "    \n",
    "    def sort(self, flag_decreasing=0):\n",
    "        if self.head == None:  \n",
    "            return;  \n",
    "        \n",
    "        \n",
    "        if isinstance(flag_decreasing,  numbers.Number): \n",
    "                   \n",
    "            chain = self.head\n",
    "         \n",
    "            while chain:\n",
    "                index = chain.next;\n",
    "                while index:  \n",
    "                    if flag_decreasing == -1:\n",
    "                        if(chain.data < index.data):  \n",
    "                            temp = chain.data;  \n",
    "                            chain.data = index.data;  \n",
    "                            index.data = temp;\n",
    "                    else:\n",
    "                        if(chain.data > index.data):  \n",
    "                            temp = chain.data;  \n",
    "                            chain.data = index.data;  \n",
    "                            index.data = temp;\n",
    "                    index = index.next  \n",
    "                chain = chain.next  \n",
    "        else:\n",
    "            print(\"flag deve ser -1 caso queira a lista decrescente\")\n",
    "            \n",
    "        return self"
   ]
  },
  {
   "cell_type": "markdown",
   "id": "e5adedde",
   "metadata": {},
   "source": [
    "#### Tree words"
   ]
  },
  {
   "cell_type": "code",
   "execution_count": 11,
   "id": "6a366a40",
   "metadata": {},
   "outputs": [],
   "source": [
    "class NohT:\n",
    "    def __init__(self, key, no_dir=None, no_esq=None):\n",
    "        self.key = key\n",
    "        self.no_dir = no_dir\n",
    "        self.no_esq = no_esq\n",
    "        self.find_in_lines = LinkedList()\n",
    "        \n",
    "    def __repr__(self):\n",
    "        return f'{self.key}'\n",
    "    \n",
    "class Tree:\n",
    "    def __init__(self):\n",
    "        self.root = None\n",
    "        self.response_em_ordem = \"\"\n",
    "        \n",
    "    def get_root(self):\n",
    "        return self.root\n",
    "    \n",
    "    def insert(self, key, noh):\n",
    "        if(self.root == None):\n",
    "            self.root = NohT(key)\n",
    "        else:\n",
    "            self._insert(key, self.root,noh)\n",
    "  \n",
    "    def _insert(self, key, root, noh):\n",
    "        \n",
    "        if(key < root.key):\n",
    "            if(root.no_esq != None):\n",
    "                self._insert(key, root.no_esq,noh)\n",
    "            else:\n",
    "                root.no_esq = NohT(key)\n",
    "                root.no_esq.find_in_lines.insert_at_the_end(noh)\n",
    "        else:\n",
    "            if(root.no_dir != None):\n",
    "                self._insert(key, root.no_dir,noh)\n",
    "            else:\n",
    "                root.no_dir = NohT(key)\n",
    "                root.no_dir.find_in_lines.insert_at_the_end(noh)\n",
    "    \n",
    "    \n",
    "    def search(self, key, root):\n",
    "        if root == None:\n",
    "            return\n",
    "        \n",
    "        if root.key == key:\n",
    "            return root\n",
    "        if root.key > key:\n",
    "            return(self.search(key, root.no_esq))\n",
    "            \n",
    "        return(self.search(key, root.no_dir))\n",
    "                \n",
    "    def print_tree(self,root):\n",
    "        response = \"\"\n",
    "        if(root != None):\n",
    "            response += str(root.key)\n",
    "            response += \"(\"\n",
    "            response += self.print_tree(root.no_esq)\n",
    "            response += self.print_tree(root.no_dir)\n",
    "            response += \")\"\n",
    "            \n",
    "            return response\n",
    "        return response\n",
    "    \n",
    "    \n",
    "    def em_ordem(self, root):\n",
    "       \n",
    "        if root != None:\n",
    "            if(root.no_esq != None):\n",
    "                self.em_ordem(root.no_esq)\n",
    "            self.response_em_ordem += \"|\"\n",
    "            self.response_em_ordem+=str(root)\n",
    "            self.response_em_ordem += \"|\"\n",
    "            self.response_em_ordem+=str(root.find_in_lines.head)\n",
    "            self.response_em_ordem+= \"|\"\n",
    "            if(root.no_dir!= None):\n",
    "                self.em_ordem(root.no_dir)\n",
    "            \n",
    "            return self.response_em_ordem\n",
    "        \n",
    "        return self.response_em_ordem"
   ]
  },
  {
   "cell_type": "code",
   "execution_count": 12,
   "id": "2dd4e16a",
   "metadata": {},
   "outputs": [
    {
     "name": "stdout",
     "output_type": "stream",
     "text": [
      "o(abacaxi(bom(elefante(e(bom())existe())))é(o()é()))\n",
      "|abacaxi|1||bom|1||bom|2||e|2||elefante|2||existe|2||o|None||o|2||é|1||é|2|\n"
     ]
    }
   ],
   "source": [
    "tree = Tree()\n",
    "\n",
    "with open(\"palavras.txt\") as file:\n",
    "    count_line = 0\n",
    "    line = file.readline()\n",
    "    while line != \"\":\n",
    "        count_line += 1\n",
    "        words = line.replace('\\n','').split(' ')\n",
    "        if len(words) == 1:\n",
    "            break\n",
    "            \n",
    "        for word in words:\n",
    "            if word != '':\n",
    "                noh = Noh(count_line)\n",
    "                tree.insert(word,noh)\n",
    "            \n",
    "        line = file.readline()\n",
    "        \n",
    "print(tree.print_tree(tree.get_root()))\n",
    "print(tree.em_ordem(tree.get_root()))\n"
   ]
  },
  {
   "cell_type": "markdown",
   "id": "025e758b",
   "metadata": {},
   "source": [
    "##### Nesse exercicio eu utilizei os nós de uma lista linkada para armazenar as palavras. E exibe cada palavra e seu numero de  linha correspondente em ordem crescente. A maior dificuldade é que no primeiro momento eu utilizava o método pre ordem, e depois tentava ordenar. Voltei ao estudos sobre arvore binaria,  encontrando  a respeito  da leitura dos nós em  em-ordem. Implementei e o resultado ficou como esperado."
   ]
  },
  {
   "cell_type": "markdown",
   "id": "181a933c",
   "metadata": {},
   "source": [
    "## Hash "
   ]
  },
  {
   "cell_type": "markdown",
   "id": "96081d37",
   "metadata": {},
   "source": [
    "## 4- Existe um resultado matemático conhecido como “paradoxo do aniversário”. Ele afirma que, se existe mais de 23 pessoas em uma determinada sala, existe mais de 50% de chance de que duas pessoas façam aniversário no mesmo dia. Explique por que este paradoxo é um exemplo do maior problema existente na técnica de hash."
   ]
  },
  {
   "cell_type": "markdown",
   "id": "faa987e6",
   "metadata": {},
   "source": [
    "##### Caso utilize se uma funcao hash que enderece 23 chaves rondomicas para um dataset com 365 dias, existe uma probabilidade de que haja colisões superiores a 50%. A probabilidade de se nascer em 1 ano é de 1/365  . Entretanto a probabilidade de outra pessoa nascer no mesmo dia aumenta conforme novas pessoas forem nascendo. Como as funcoes hash recebem um valor de tamanho predefinido  ela funcao de hash, e um valor fixo de saida, a um aumento na possibilidade de ter uma colisao de hashes. Ou seja, pode se aumentar o numero de colisoes gerando uma numero grande de entradas para o hash table. "
   ]
  },
  {
   "cell_type": "markdown",
   "id": "9cc7dfed",
   "metadata": {},
   "source": [
    "## 5- Observando cada um dos caracteres que formam a palavra C O M P U T A Ç Ã O. Crie uma tabela de dispersão (hash table) que armazene cada um destes caracteres, utilizando a seguinte função: h(char) = (ordem de char no alfabeto)%5 . Desenhe o esquema de como ficaram a hash table e as listas encadeadas."
   ]
  },
  {
   "cell_type": "code",
   "execution_count": 56,
   "id": "8739a122",
   "metadata": {},
   "outputs": [],
   "source": [
    "class Char:\n",
    "    def __init__(self, value=\"\"):\n",
    "        self.value = value\n",
    "    \n",
    "    def get_value(self):\n",
    "        return  self.value\n",
    "    \n",
    "class HashTable:\n",
    "    def __init__(self, max_items=100):\n",
    "        self.max_items = max_items\n",
    "        self.length = 0\n",
    "        \n",
    "        self.data  = []\n",
    "        self.table_index = []\n",
    "        self.table_key = []\n",
    "        self.map_dispertion = {}\n",
    "    \n",
    "    def get_length(self):\n",
    "        return (self.length == self.max_items)\n",
    "    \n",
    "    def get_hash(self, char):\n",
    "        return ord(char.get_value()) % 5\n",
    "    \n",
    "    def retrieve_item(self, char):\n",
    "        location = get_hash(char.get_value())\n",
    "        aux = self.map_dispertion[location]\n",
    "        \n",
    "        if aux:\n",
    "            return aux.get_value()\n",
    "        else:\n",
    "            return None\n",
    "    \n",
    "    def insert_item(self, char):\n",
    "        key = self.get_hash(char)\n",
    "        self.data.append(char.get_value())\n",
    "        self.table_index.append(self.data.index(char.get_value()))\n",
    "        self.table_key.append(key)\n",
    "        self.map_dispertion[key] =  self.data.index(char.get_value())\n",
    "        self.length += self.length;\n",
    "    \n",
    "    def delete_item(self, char):\n",
    "        location = self.get_hash(char)\n",
    "        \n",
    "        self.data[self.map_dispertion[location]] = \"\"\n",
    "        self.map_dispertion[location] = \"\"\n",
    "        \n",
    "        self.length -= self.length\n",
    "    \n",
    "    \n",
    "    def print_item(self):\n",
    "        print('------Table_Hash------')\n",
    "        print('-KEY-|-INDICE-|-Value-')\n",
    "        for key in self.map_dispertion.keys():\n",
    "            indice = self.map_dispertion[key]\n",
    "            print(f'|{key}   |    {self.map_dispertion[key]}   |   {self.data[indice]}  ')\n",
    "\n",
    "\n",
    "word = \"computação\"\n",
    "\n",
    "hash = HashTable()"
   ]
  },
  {
   "cell_type": "code",
   "execution_count": 60,
   "id": "2f3b9ec8",
   "metadata": {},
   "outputs": [],
   "source": [
    "for char in word:\n",
    "    char_v = Char()\n",
    "    char_v.value = char\n",
    "    hash.insert_item(char_v)"
   ]
  },
  {
   "cell_type": "code",
   "execution_count": 61,
   "id": "c9361c56",
   "metadata": {},
   "outputs": [
    {
     "name": "stdout",
     "output_type": "stream",
     "text": [
      "------Table_Hash------\n",
      "-KEY-|-INDICE-|-Value-\n",
      "|4   |    2   |   m  \n",
      "|1   |    1   |   o  \n",
      "|2   |    8   |   ã  \n"
     ]
    }
   ],
   "source": [
    "hash.print_item()"
   ]
  },
  {
   "cell_type": "code",
   "execution_count": 62,
   "id": "bcbdefcb",
   "metadata": {},
   "outputs": [
    {
     "name": "stdout",
     "output_type": "stream",
     "text": [
      "-KEY-|-INDICES-|-Letras-\n",
      "| 4  | 0   | c \n",
      "| 1  | 1   | o \n",
      "| 4  | 2   | m \n",
      "| 2  | 3   | p \n",
      "| 2  | 4   | u \n",
      "| 1  | 5   | t \n",
      "| 2  | 6   | a \n",
      "| 1  | 7   | ç \n",
      "| 2  | 8   | ã \n",
      "| 1  | 1   | o \n"
     ]
    }
   ],
   "source": [
    "print('-KEY-|-INDICES-|-Letras-')\n",
    "for i in range(10):\n",
    "    print(f'| {hash.table_key[i]}  | {hash.table_index[i]}   | {hash.data[i]} ')\n"
   ]
  },
  {
   "cell_type": "code",
   "execution_count": 64,
   "id": "3b5854b4",
   "metadata": {},
   "outputs": [
    {
     "name": "stdout",
     "output_type": "stream",
     "text": [
      "\n",
      "------Table_Hash------\n",
      "-KEY-|-INDICE-|-Colisoes-\n",
      "|4   |    2   | 4 \n",
      "|1   |    1   | 8 \n",
      "|2   |    8   | 8 \n",
      "\n"
     ]
    }
   ],
   "source": [
    "count = 0\n",
    "colisoes = {}\n",
    "print()\n",
    "\n",
    "for key_1 in hash.table_key:\n",
    "    for key_2 in hash.table_key:\n",
    "        if key_1 == key_2:\n",
    "            count += 1\n",
    "            colisoes[key_1] = {\n",
    "                'colisoes': count\n",
    "            }\n",
    "    count = 0\n",
    "\n",
    "print('------Table_Hash------')\n",
    "print('-KEY-|-INDICE-|-Colisoes-')\n",
    "for key, item in colisoes.items():         \n",
    "    indice = hash.map_dispertion[key]\n",
    "    print(f'|{key}   |    {hash.map_dispertion[key]}   | {item[\"colisoes\"]} ')\n",
    "print()"
   ]
  },
  {
   "cell_type": "markdown",
   "id": "eec63cf2",
   "metadata": {},
   "source": [
    "##### Nessa questao eu apresento 3 desenhos de tabelas, uma demonstrando as colisoes, a outra o resultado Hashtable e um outro demonstrando  3 listas keys, indices e letras"
   ]
  },
  {
   "cell_type": "markdown",
   "id": "cada89ea",
   "metadata": {},
   "source": [
    "### 6 -  Crie um arquivo hash com registros para 25 nomes de cidades do estado de Minas Gerais cujos nomes comecem com as seguintes letras do alfabeto: a, b, c e s. A chave de cada registro é o nome da cidade, não sendo necessários outros campos. Coloque inicialmente os nomes das cidades em ordem alfabética."
   ]
  },
  {
   "cell_type": "code",
   "execution_count": 16,
   "id": "7eee09c8",
   "metadata": {},
   "outputs": [],
   "source": [
    "class Noh:\n",
    "    def __init__(self, data=0, next_noh=None):\n",
    "        self.data = data\n",
    "        self.next = next_noh\n",
    "\n",
    "    def __repr__(self):\n",
    "        return f'{self.data} > {self.next}'\n"
   ]
  },
  {
   "cell_type": "code",
   "execution_count": 17,
   "id": "870b6ff2",
   "metadata": {},
   "outputs": [
    {
     "name": "stdout",
     "output_type": "stream",
     "text": [
      "[['andradas'] > ['araguari'] > ['araxa'] > ['barbacena'] > ['belohorizonte'] > ['betim'] > ['bocaiuva'] > ['bomdespacho'] > ['brumadinho'] > ['buritizeiro'] > ['caete'] > ['camanducaia'] > ['capelinha'] > ['capitolio'] > ['carangola'] > ['caratinga'] > ['catasaltas'] > ['confins'] > ['congonhas'] > ['conselheirolafaiete'] > ['contagem'] > ['curvelo'] > ['diamantina'] > ['sabara'] > ['saogotardo'] > None]\n"
     ]
    }
   ],
   "source": [
    "list_linked = LinkedList()\n",
    "\n",
    "with open(\"minasgerais.txt\") as file:\n",
    "    count_line = 0\n",
    "    line = file.readline()\n",
    "    while line != \"\":\n",
    "        count_line += 1\n",
    "        word = line.replace('\\n','').split(' ') \n",
    "        list_linked.insert_in_begin(word)\n",
    "            \n",
    "        line = file.readline()\n",
    "\n",
    "print(list_linked.sort())\n"
   ]
  },
  {
   "cell_type": "markdown",
   "id": "842e392d",
   "metadata": {},
   "source": [
    "#### a) Examine a lista ordenada. Que padrões você observa que podem afetar a sua escolha de uma função hash?"
   ]
  },
  {
   "cell_type": "markdown",
   "id": "2bd9e4b3",
   "metadata": {},
   "source": [
    "- Utilizacao sim/nao de acentuação \n",
    "- Numero de caracters utilizados para criar a chave. Caso tenha um numero inferior a 4 letras iniciais pode haver um aumento nas colisoes"
   ]
  },
  {
   "cell_type": "markdown",
   "id": "621a3033",
   "metadata": {},
   "source": [
    "#### b) Implemente uma função hash() que utiliza alguma combinação dos códigos ASCII das letras do nome, mas de forma que você possa alterar o número de caracteres que são utilizados na combinação. Execute o hash() várias vezes, cada vez utilizando um número diferente de caracteres e produzindo as seguintes estatísticas para cada execução: "
   ]
  },
  {
   "cell_type": "markdown",
   "id": "ac735efd",
   "metadata": {},
   "source": [
    "• O número de endereços com 0,1, 2, 3, ...10, ou mais de 10 cidades associadas."
   ]
  },
  {
   "cell_type": "markdown",
   "id": "89a6fc71",
   "metadata": {},
   "source": [
    "• O número de colisões;"
   ]
  },
  {
   "cell_type": "markdown",
   "id": "2350d154",
   "metadata": {},
   "source": [
    "#### Discuta os resultados de seu experimento em termos de efeitos da escolha de diferentes quantidades de caracteres e como eles se relacionam com o resultado que você poderia esperar de uma distribuição aleatória. (Implemente e teste um ou mais dos métodos de hash descritos no texto, ou use um método inventado por você). "
   ]
  },
  {
   "cell_type": "code",
   "execution_count": 50,
   "id": "1d0d3908",
   "metadata": {},
   "outputs": [],
   "source": [
    "from random import randrange\n",
    "\n",
    "class HashTable:\n",
    "    def __init__(self, max_items=100):\n",
    "        self.max_items = max_items\n",
    "        self.length = 0\n",
    "        \n",
    "        self.data  = []\n",
    "        self.table_index = []\n",
    "        self.table_key = []\n",
    "        self.map_dispertion = {}\n",
    "    \n",
    "    def get_hash(self, key, number_caracter):\n",
    "        new_key = 0\n",
    "        \n",
    "        if number_caracter == -1:\n",
    "            for i in range(len(key)):\n",
    "                if key != \"\":\n",
    "                    new_key += ord(key[i])\n",
    "            return new_key\n",
    "                    \n",
    "        for i in range(number_caracter):      \n",
    "            if key != \"\":\n",
    "                new_key += ord(key[i]) % randrange(1, 10)\n",
    "           \n",
    "                \n",
    "        return new_key\n",
    "    \n",
    "    def insert_item(self, word,number_caracter):\n",
    "        key = self.get_hash(word,number_caracter)\n",
    "        self.data.append(word)\n",
    "        self.table_index.append(self.data.index(word))\n",
    "        self.table_key.append(key)\n",
    "        self.map_dispertion[key] =  self.data.index(word)\n",
    "        self.length += self.length;\n",
    "    \n",
    "    def print_item(self):\n",
    "        print('------Table_Hash------')\n",
    "        print('-KEY-|-INDICE-|-Value-')\n",
    "        for key in self.map_dispertion.keys():\n",
    "            indice = self.map_dispertion[key]\n",
    "            print(f'|{key}   |    {self.map_dispertion[key]}   |   {self.data[indice]}  ')\n",
    "\n",
    "\n",
    "word = \"computação\"\n",
    "\n"
   ]
  },
  {
   "cell_type": "code",
   "execution_count": 51,
   "id": "4cb02e91",
   "metadata": {
    "scrolled": false
   },
   "outputs": [
    {
     "name": "stdout",
     "output_type": "stream",
     "text": [
      "------Table_Hash------\n",
      "-KEY-|-INDICE-|-Value-\n",
      "|3   |    0   |   andradas  \n",
      "|20   |    8   |   brumadinho  \n",
      "|6   |    21   |   curvelo  \n",
      "|9   |    3   |   barbacena  \n",
      "|7   |    23   |   sabara  \n",
      "|8   |    13   |   capitolio  \n",
      "|17   |    6   |   bocaiuva  \n",
      "|13   |    9   |   buritizeiro  \n",
      "|16   |    16   |   catasaltas  \n",
      "|10   |    24   |   saogotardo  \n",
      "|11   |    22   |   diamantina  \n",
      "|5   |    17   |   confins  \n",
      "|2   |    19   |   conselheirolafaiete  \n",
      "\n",
      "------Table_Hash------\n",
      "-KEY-|-INDICE-|-Colisoes-\n",
      "|3   |    0   | 1 \n",
      "|20   |    8   | 2 \n",
      "|6   |    21   | 3 \n",
      "|9   |    3   | 1 \n",
      "|7   |    23   | 3 \n",
      "|8   |    13   | 3 \n",
      "|17   |    6   | 1 \n",
      "|13   |    9   | 1 \n",
      "|16   |    16   | 2 \n",
      "|10   |    24   | 2 \n",
      "|11   |    22   | 2 \n",
      "|5   |    17   | 2 \n",
      "|2   |    19   | 2 \n",
      "\n",
      "------Table_Hash------\n",
      "-KEY-|-INDICE-|-Value-\n",
      "|7   |    20   |   contagem  \n",
      "|3   |    17   |   confins  \n",
      "|6   |    6   |   bocaiuva  \n",
      "|5   |    11   |   camanducaia  \n",
      "|4   |    22   |   diamantina  \n",
      "|10   |    8   |   brumadinho  \n",
      "|2   |    12   |   capelinha  \n",
      "|1   |    24   |   saogotardo  \n",
      "|8   |    15   |   caratinga  \n",
      "|0   |    19   |   conselheirolafaiete  \n",
      "|13   |    23   |   sabara  \n",
      "\n",
      "------Table_Hash------\n",
      "-KEY-|-INDICE-|-Colisoes-\n",
      "|7   |    20   | 4 \n",
      "|3   |    17   | 2 \n",
      "|6   |    6   | 3 \n",
      "|5   |    11   | 4 \n",
      "|4   |    22   | 3 \n",
      "|10   |    8   | 1 \n",
      "|2   |    12   | 1 \n",
      "|1   |    24   | 4 \n",
      "|8   |    15   | 1 \n",
      "|0   |    19   | 1 \n",
      "|13   |    23   | 1 \n",
      "\n",
      "------Table_Hash------\n",
      "-KEY-|-INDICE-|-Value-\n",
      "|7   |    23   |   sabara  \n",
      "|4   |    16   |   catasaltas  \n",
      "|8   |    7   |   bomdespacho  \n",
      "|11   |    20   |   contagem  \n",
      "|6   |    17   |   confins  \n",
      "|3   |    15   |   caratinga  \n",
      "|5   |    21   |   curvelo  \n",
      "|1   |    14   |   carangola  \n",
      "|10   |    22   |   diamantina  \n",
      "|9   |    24   |   saogotardo  \n",
      "\n",
      "------Table_Hash------\n",
      "-KEY-|-INDICE-|-Colisoes-\n",
      "|7   |    23   | 7 \n",
      "|4   |    16   | 4 \n",
      "|8   |    7   | 2 \n",
      "|11   |    20   | 2 \n",
      "|6   |    17   | 3 \n",
      "|3   |    15   | 2 \n",
      "|5   |    21   | 2 \n",
      "|1   |    14   | 1 \n",
      "|10   |    22   | 1 \n",
      "|9   |    24   | 1 \n",
      "\n",
      "------Table_Hash------\n",
      "-KEY-|-INDICE-|-Value-\n",
      "|1   |    24   |   saogotardo  \n",
      "|5   |    21   |   curvelo  \n",
      "|3   |    20   |   contagem  \n",
      "|2   |    14   |   carangola  \n",
      "|9   |    16   |   catasaltas  \n",
      "|0   |    6   |   bocaiuva  \n",
      "|4   |    18   |   congonhas  \n",
      "|8   |    17   |   confins  \n",
      "|7   |    11   |   camanducaia  \n",
      "|10   |    22   |   diamantina  \n",
      "\n",
      "------Table_Hash------\n",
      "-KEY-|-INDICE-|-Colisoes-\n",
      "|1   |    24   | 6 \n",
      "|5   |    21   | 5 \n",
      "|3   |    20   | 3 \n",
      "|2   |    14   | 2 \n",
      "|9   |    16   | 2 \n",
      "|0   |    6   | 1 \n",
      "|4   |    18   | 2 \n",
      "|8   |    17   | 2 \n",
      "|7   |    11   | 1 \n",
      "|10   |    22   | 1 \n",
      "\n",
      "------Table_Hash------\n",
      "-KEY-|-INDICE-|-Value-\n",
      "|12   |    20   |   contagem  \n",
      "|5   |    24   |   saogotardo  \n",
      "|4   |    22   |   diamantina  \n",
      "|11   |    15   |   caratinga  \n",
      "|14   |    21   |   curvelo  \n",
      "|7   |    8   |   brumadinho  \n",
      "|6   |    13   |   capitolio  \n",
      "|19   |    9   |   buritizeiro  \n",
      "|16   |    10   |   caete  \n",
      "|9   |    11   |   camanducaia  \n",
      "|8   |    14   |   carangola  \n",
      "|17   |    16   |   catasaltas  \n",
      "|13   |    19   |   conselheirolafaiete  \n",
      "|3   |    23   |   sabara  \n",
      "\n",
      "------Table_Hash------\n",
      "-KEY-|-INDICE-|-Colisoes-\n",
      "|12   |    20   | 3 \n",
      "|5   |    24   | 3 \n",
      "|4   |    22   | 3 \n",
      "|11   |    15   | 2 \n",
      "|14   |    21   | 2 \n",
      "|7   |    8   | 2 \n",
      "|6   |    13   | 3 \n",
      "|19   |    9   | 1 \n",
      "|16   |    10   | 1 \n",
      "|9   |    11   | 1 \n",
      "|8   |    14   | 1 \n",
      "|17   |    16   | 1 \n",
      "|13   |    19   | 1 \n",
      "|3   |    23   | 1 \n",
      "\n",
      "------Table_Hash------\n",
      "-KEY-|-INDICE-|-Value-\n",
      "|8   |    14   |   carangola  \n",
      "|1   |    3   |   barbacena  \n",
      "|4   |    4   |   belohorizonte  \n",
      "|0   |    5   |   betim  \n",
      "|9   |    6   |   bocaiuva  \n",
      "|11   |    7   |   bomdespacho  \n",
      "|2   |    20   |   contagem  \n",
      "|7   |    16   |   catasaltas  \n",
      "|5   |    23   |   sabara  \n",
      "|6   |    17   |   confins  \n",
      "|3   |    24   |   saogotardo  \n",
      "|10   |    19   |   conselheirolafaiete  \n",
      "\n",
      "------Table_Hash------\n",
      "-KEY-|-INDICE-|-Colisoes-\n",
      "|8   |    14   | 4 \n",
      "|1   |    3   | 2 \n",
      "|4   |    4   | 1 \n",
      "|0   |    5   | 1 \n",
      "|9   |    6   | 1 \n",
      "|11   |    7   | 1 \n",
      "|2   |    20   | 4 \n",
      "|7   |    16   | 3 \n",
      "|5   |    23   | 3 \n",
      "|6   |    17   | 1 \n",
      "|3   |    24   | 3 \n",
      "|10   |    19   | 1 \n",
      "\n",
      "------Table_Hash------\n",
      "-KEY-|-INDICE-|-Value-\n",
      "|3   |    21   |   curvelo  \n",
      "|14   |    1   |   araguari  \n",
      "|1   |    14   |   carangola  \n",
      "|10   |    20   |   contagem  \n",
      "|7   |    5   |   betim  \n",
      "|2   |    22   |   diamantina  \n",
      "|13   |    7   |   bomdespacho  \n",
      "|4   |    10   |   caete  \n",
      "|5   |    12   |   capelinha  \n",
      "|6   |    19   |   conselheirolafaiete  \n",
      "|12   |    17   |   confins  \n",
      "|9   |    24   |   saogotardo  \n",
      "|8   |    23   |   sabara  \n",
      "\n",
      "------Table_Hash------\n",
      "-KEY-|-INDICE-|-Colisoes-\n",
      "|3   |    21   | 5 \n",
      "|14   |    1   | 1 \n",
      "|1   |    14   | 2 \n",
      "|10   |    20   | 3 \n",
      "|7   |    5   | 1 \n",
      "|2   |    22   | 3 \n",
      "|13   |    7   | 1 \n",
      "|4   |    10   | 1 \n",
      "|5   |    12   | 1 \n",
      "|6   |    19   | 3 \n",
      "|12   |    17   | 1 \n",
      "|9   |    24   | 2 \n",
      "|8   |    23   | 1 \n",
      "\n",
      "------Table_Hash------\n",
      "-KEY-|-INDICE-|-Value-\n",
      "|3   |    24   |   saogotardo  \n",
      "|9   |    19   |   conselheirolafaiete  \n",
      "|10   |    12   |   capelinha  \n",
      "|5   |    22   |   diamantina  \n",
      "|2   |    5   |   betim  \n",
      "|4   |    13   |   capitolio  \n",
      "|11   |    14   |   carangola  \n",
      "|17   |    8   |   brumadinho  \n",
      "|0   |    9   |   buritizeiro  \n",
      "|7   |    23   |   sabara  \n",
      "|6   |    17   |   confins  \n",
      "|15   |    18   |   congonhas  \n",
      "|8   |    20   |   contagem  \n",
      "|1   |    21   |   curvelo  \n",
      "\n",
      "------Table_Hash------\n",
      "-KEY-|-INDICE-|-Colisoes-\n",
      "|3   |    24   | 2 \n",
      "|9   |    19   | 3 \n",
      "|10   |    12   | 3 \n",
      "|5   |    22   | 2 \n",
      "|2   |    5   | 1 \n",
      "|4   |    13   | 3 \n",
      "|11   |    14   | 2 \n",
      "|17   |    8   | 1 \n",
      "|0   |    9   | 1 \n",
      "|7   |    23   | 3 \n",
      "|6   |    17   | 1 \n",
      "|15   |    18   | 1 \n",
      "|8   |    20   | 1 \n",
      "|1   |    21   | 1 \n",
      "\n",
      "------Table_Hash------\n",
      "-KEY-|-INDICE-|-Value-\n",
      "|5   |    24   |   saogotardo  \n",
      "|7   |    19   |   conselheirolafaiete  \n",
      "|8   |    2   |   araxa  \n",
      "|4   |    21   |   curvelo  \n",
      "|11   |    4   |   belohorizonte  \n",
      "|16   |    5   |   betim  \n",
      "|2   |    14   |   carangola  \n",
      "|20   |    7   |   bomdespacho  \n",
      "|6   |    10   |   caete  \n",
      "|12   |    16   |   catasaltas  \n",
      "|10   |    17   |   confins  \n",
      "|3   |    23   |   sabara  \n",
      "\n",
      "------Table_Hash------\n",
      "-KEY-|-INDICE-|-Colisoes-\n",
      "|5   |    24   | 5 \n",
      "|7   |    19   | 2 \n",
      "|8   |    2   | 1 \n",
      "|4   |    21   | 4 \n",
      "|11   |    4   | 1 \n",
      "|16   |    5   | 1 \n",
      "|2   |    14   | 2 \n",
      "|20   |    7   | 1 \n",
      "|6   |    10   | 2 \n",
      "|12   |    16   | 3 \n",
      "|10   |    17   | 2 \n",
      "|3   |    23   | 1 \n",
      "\n"
     ]
    }
   ],
   "source": [
    "from random import randrange\n",
    "\n",
    "for i in range(1,10):\n",
    "    irand = randrange(1, 5)\n",
    "    hash = HashTable()\n",
    "    chain = list_linked.head\n",
    "    while chain:\n",
    "        hash.insert_item(chain.data[0],irand)\n",
    "        chain = chain.next\n",
    "\n",
    "    hash.print_item()\n",
    "\n",
    "    count = 0\n",
    "    colisoes = {}\n",
    "    print()\n",
    "    \n",
    "    for key_1 in hash.table_key:\n",
    "        for key_2 in hash.table_key:\n",
    "            if key_1 == key_2:\n",
    "                count += 1\n",
    "                colisoes[key_1] = {\n",
    "                    'colisoes': count\n",
    "                }\n",
    "        count = 0\n",
    "\n",
    "    print('------Table_Hash------')\n",
    "    print('-KEY-|-INDICE-|-Colisoes-')\n",
    "    for key, item in colisoes.items():         \n",
    "        indice = hash.map_dispertion[key]\n",
    "        print(f'|{key}   |    {hash.map_dispertion[key]}   | {item[\"colisoes\"]} ')\n",
    "    print()"
   ]
  },
  {
   "cell_type": "markdown",
   "id": "e48fe4e9",
   "metadata": {},
   "source": [
    "##### Neste caso foi utilizado  2 variaveis randomicas. Uma para definir o numero de caracters a ser usado, e outra  pra utilizar na operacao de modulo por caracter"
   ]
  },
  {
   "cell_type": "code",
   "execution_count": 52,
   "id": "1dd8e2f0",
   "metadata": {},
   "outputs": [
    {
     "name": "stdout",
     "output_type": "stream",
     "text": [
      "------Table_Hash------\n",
      "-KEY-|-INDICE-|-Value-\n",
      "|830   |    0   |   andradas  \n",
      "|844   |    1   |   araguari  \n",
      "|525   |    2   |   araxa  \n",
      "|911   |    3   |   barbacena  \n",
      "|1412   |    4   |   belohorizonte  \n",
      "|529   |    5   |   betim  \n",
      "|842   |    6   |   bocaiuva  \n",
      "|1157   |    7   |   bomdespacho  \n",
      "|1065   |    8   |   brumadinho  \n",
      "|1208   |    9   |   buritizeiro  \n",
      "|514   |    10   |   caete  \n",
      "|1127   |    11   |   camanducaia  \n",
      "|933   |    12   |   capelinha  \n",
      "|964   |    13   |   capitolio  \n",
      "|936   |    14   |   carangola  \n",
      "|938   |    15   |   caratinga  \n",
      "|1057   |    16   |   catasaltas  \n",
      "|752   |    17   |   confins  \n",
      "|960   |    18   |   congonhas  \n",
      "|2006   |    19   |   conselheirolafaiete  \n",
      "|846   |    20   |   contagem  \n",
      "|768   |    21   |   curvelo  \n",
      "|1046   |    22   |   diamantina  \n",
      "|618   |    23   |   sabara  \n",
      "|1075   |    24   |   saogotardo  \n",
      "------Table_Hash------\n",
      "-KEY-|-INDICE-|-Colisoes-\n",
      "|830   |    0   | 1 \n",
      "|844   |    1   | 1 \n",
      "|525   |    2   | 1 \n",
      "|911   |    3   | 1 \n",
      "|1412   |    4   | 1 \n",
      "|529   |    5   | 1 \n",
      "|842   |    6   | 1 \n",
      "|1157   |    7   | 1 \n",
      "|1065   |    8   | 1 \n",
      "|1208   |    9   | 1 \n",
      "|514   |    10   | 1 \n",
      "|1127   |    11   | 1 \n",
      "|933   |    12   | 1 \n",
      "|964   |    13   | 1 \n",
      "|936   |    14   | 1 \n",
      "|938   |    15   | 1 \n",
      "|1057   |    16   | 1 \n",
      "|752   |    17   | 1 \n",
      "|960   |    18   | 1 \n",
      "|2006   |    19   | 1 \n",
      "|846   |    20   | 1 \n",
      "|768   |    21   | 1 \n",
      "|1046   |    22   | 1 \n",
      "|618   |    23   | 1 \n",
      "|1075   |    24   | 1 \n"
     ]
    }
   ],
   "source": [
    "hash = HashTable()\n",
    "chain = list_linked.head\n",
    "\n",
    "while chain:\n",
    "    hash.insert_item(chain.data[0], -1)\n",
    "    chain = chain.next\n",
    "\n",
    "hash.print_item()\n",
    "\n",
    "lista_response  = []\n",
    "\n",
    "count = 0\n",
    "colisoes = {}\n",
    "for key_1 in hash.table_key:\n",
    "    for key_2 in hash.table_key:\n",
    "        if key_1 == key_2:\n",
    "            count += 1\n",
    "            colisoes[key_1] = {\n",
    "                'colisoes': count\n",
    "            }\n",
    "    count = 0\n",
    "\n",
    "print('------Table_Hash------')\n",
    "print('-KEY-|-INDICE-|-Colisoes-')\n",
    "for key, item in colisoes.items():         \n",
    "    indice = hash.map_dispertion[key]\n",
    "    print(f'|{key}   |    {hash.map_dispertion[key]}   | {item[\"colisoes\"]} ')"
   ]
  },
  {
   "cell_type": "markdown",
   "id": "15c07085",
   "metadata": {},
   "source": [
    "##### Nesse exercicio foi utilizado todos os caracteres convertidos para o seu numero correspondenre em anci. Apos isso, foi somado cada um dos valores para encontrar o hash da palavra. Neste caso nao ouve colisão "
   ]
  },
  {
   "cell_type": "markdown",
   "id": "5495adf0",
   "metadata": {},
   "source": [
    "#### 7 – Questão de Pesquisa: A estrutura heap é um tipo particular de árvore binária, onde (i) o valor em um nó não é menor do que os valores armazenados em seus filhos, (ii) a árvore é perfeitamente balanceada e as folhas do último nível estão todas nas posições mais à esquerda. Qual é o número de comparações e de trocas, no melhor caso, para se criar um heap usando (a) o método de Williams (Algorithm 232: Heapsort) e (b) o método de Floyd (Algorithm 245: Treesort 3)?"
   ]
  },
  {
   "cell_type": "code",
   "execution_count": null,
   "id": "dbf34826",
   "metadata": {},
   "outputs": [],
   "source": []
  }
 ],
 "metadata": {
  "kernelspec": {
   "display_name": "Python 3 (ipykernel)",
   "language": "python",
   "name": "python3"
  },
  "language_info": {
   "codemirror_mode": {
    "name": "ipython",
    "version": 3
   },
   "file_extension": ".py",
   "mimetype": "text/x-python",
   "name": "python",
   "nbconvert_exporter": "python",
   "pygments_lexer": "ipython3",
   "version": "3.11.3"
  }
 },
 "nbformat": 4,
 "nbformat_minor": 5
}
