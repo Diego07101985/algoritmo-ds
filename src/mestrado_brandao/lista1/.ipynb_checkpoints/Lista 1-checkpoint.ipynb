{
 "cells": [
  {
   "cell_type": "markdown",
   "id": "5967daa8",
   "metadata": {},
   "source": [
    "### Centro Federal de Educação Tecnológica Celso Suckow da Fonseca (CEFET-TJ)\n",
    "### Programa de Pós Graduação em Ciência da Computação (PPCIC)\n",
    "##### Disciplina:  Análise e Projetos de Algoritmos\n",
    "##### Professor:  Diego Nunes Brandão\n",
    "##### Aluno:  Diego Silva de Salles"
   ]
  },
  {
   "cell_type": "markdown",
   "id": "173aa576",
   "metadata": {},
   "source": [
    "### Lista 1"
   ]
  },
  {
   "cell_type": "markdown",
   "id": "d083be1f",
   "metadata": {},
   "source": [
    "# Parte 1 – Análise de Complexidade\n",
    "### 1 – Explique o significado das seguintes expressões:"
   ]
  },
  {
   "cell_type": "markdown",
   "id": "99f9b20d",
   "metadata": {},
   "source": [
    "- a) 𝑓(𝑛) é 𝑂(1) \n",
    "#### A notacao Big O descreve o comportamento limitante superior de uma funcao quando o argumento tende em direcao a um determinado valor ou ao infinito. A notacao O(1) demostra uma funcao com limite assintotico superior constante \n",
    "\n",
    "- b) 𝑓(𝑛) é Θ(1) =\n",
    "#### Na funcao f(n)  o comportamente limitante superior e inferior  é constante.  \n",
    "\n",
    "- (c) $f(n)$ é $n^{O(1)}$ \n",
    "#####  A função $f(n)$  tem o comportamento limitante superior polinomial"
   ]
  },
  {
   "cell_type": "markdown",
   "id": "4a002bed",
   "metadata": {},
   "source": [
    "### 2 – Assumindo que $f_1(n)$ é $O(g_1(n))$ e $f_2(n)$ é $O(g_2(n))$, prove as seguintes declarações: "
   ]
  },
  {
   "cell_type": "markdown",
   "id": "05dcdcc7",
   "metadata": {},
   "source": [
    "Defindo a notacao 𝑂 para $f_1(n)$ e $f_2(n)$ \n",
    "\n",
    "- $f_1(n) \\leq c_1.g_1(n)$ para todo $n \\geq n_1$, onde $c_1$ e $n_1$ existem e são números positivos.\n",
    "- $f_2(n) \\leq c_2.g_2(n)$ para todo $n \\geq n_2$, onde $c_2$ e $n_2$ existem e são números positivos."
   ]
  },
  {
   "cell_type": "markdown",
   "id": "bae9ad93",
   "metadata": {},
   "source": [
    "(a) $f_1(n) + f_2(n)$ é $O(\\max (g_1(n), g_2(n)))$"
   ]
  },
  {
   "cell_type": "markdown",
   "id": "48cb863c",
   "metadata": {},
   "source": [
    "- $f_1(n) + f_2(n)$ = $O(\\max (g_1(n), g_2(n)))$\n",
    "- $f_1(n) ≤ c_1g_1(n)$ and $f_2(n) ≤ c_2g_2(n)$ para um valor grande de n.\n",
    "- $f_1(n) + f_2(n)$ ≤ $c_1g_1(n) + c_2*g_2(n)$\n",
    "- $f_1(n) + f_2(n)$ ≤ $c_1 max(g_1(n), g_2(n))$ + $c_2 max(g1(n), g2(n))$\n",
    "- $f_1(n) + f_2(n)$ ≤ $(c_1 + c_2) max(g_1(n), g_2(n))$\n",
    "Por definicao a funcao $f_1(n) + f_2(n)$ é valida. A Equação 2 pode ser provada de forma semelhante como exposto acima"
   ]
  },
  {
   "cell_type": "markdown",
   "id": "a2f6d400",
   "metadata": {},
   "source": [
    "#### b) 𝑓1(𝑛) ∗ 𝑓2(𝑛) é 𝑂(𝑔1(𝑛) ∗ 𝑔2(𝑛)) (regra do produto)"
   ]
  },
  {
   "cell_type": "markdown",
   "id": "980f0905",
   "metadata": {},
   "source": [
    "A partir das declarações acima, é possível escrever:\n",
    "\n",
    "- $f_1(n) * f_2(n)$ = $c_1.(g_1(n)) * c_2.(g_2(n))$\n",
    "- $f_1(n) ≤ c_1g_1(n)$ and $f_2(n) ≤ c_2g_2(n)$ para um valor grande de n.\n",
    "- $f_1(n) * f_2(n)$ ≤ $c_1.(g_1(n) * g_2(n))$ *  $c_2.(g_1(n) * g_2(n))$\n",
    "- $f_1(n) * f_2(n)$ ≤ $(c_1 * c_2).(g_1(n)$ * $g_2(n))$\n",
    "\n",
    "Assim $c_3 = c_1 * c_2$ e $n_3 = n_1 * n_2$,se $n \\geq n_3$:\n",
    "\n",
    "\n",
    "- $f_1(n) * f_2(n)$ ≤ $c_3.(g_1(n) * g_2(n))$\n",
    "\n",
    "\n",
    "Por definicao a funcao $f_1(n) * f_2(n)$ é valida. A Equação 2 pode ser provada de forma semelhante como exposto acima"
   ]
  },
  {
   "cell_type": "markdown",
   "id": "a35c8d93",
   "metadata": {},
   "source": [
    "# Rever c) c é O(1) "
   ]
  },
  {
   "cell_type": "markdown",
   "id": "d10b7c86",
   "metadata": {},
   "source": [
    "\n",
    "\n",
    "Se $P(n) = f(n)$ e a definição convencional da notação $O$, $f$ é $O(g)$ quando $d > 0$ e valor inteiro $n_0$, com $n \\geq n_0$, tal que:\n",
    "\n",
    "- $P(n) \\leq d.n^k$\n",
    "\n",
    "Se $k = 0$, então:\n",
    "\n",
    "- $P(n) \\leq d.n^0 \\\\\n",
    "P(n) \\leq d$\n",
    "\n",
    "Logo:\n",
    "\n",
    "- $\n",
    "P(n) = O(d)\n",
    "$\n",
    "\n",
    "- $\n",
    "P(n) = O(d.1) = d.O(1) = O(1)\n",
    "$"
   ]
  },
  {
   "cell_type": "markdown",
   "id": "4ad9512f",
   "metadata": {},
   "source": [
    "# Rever (d) $2^{2n + a}$ é $O(2^n)$"
   ]
  },
  {
   "cell_type": "markdown",
   "id": "851ce018",
   "metadata": {},
   "source": [
    "Se q $f$ é $O(g)$ quando a constante $c > 0$ e valor inteiro $n_0$, com $n \\geq n_0$, tal que:\n",
    "    \n",
    "- $\n",
    "f(n) \\leq c.g(n)\n",
    "$\n",
    "\n",
    "\n",
    "Se $c = 2$ e $n_0 = a$\n",
    "- $2^{2n + a} \\leq 2^{2n}*2^a$\n",
    "- $2^{2n + a} = O(2^n)$."
   ]
  },
  {
   "cell_type": "markdown",
   "id": "e412bb33",
   "metadata": {},
   "source": [
    "##### 3 – Usando as mesmas hipóteses que o exercício anterior refute as seguintes\n",
    "##### declarações (podem ser usados contra-exemplos):\n",
    "- a) 𝑓1(𝑛) − 𝑓2(𝑛) é 𝑂(𝑔1(𝑛) − 𝑔2(𝑛))\n",
    "- b) 𝑓1(𝑛)/𝑓2(𝑛) é 𝑂(𝑔1(𝑛)/𝑔2(𝑛))"
   ]
  },
  {
   "cell_type": "code",
   "execution_count": null,
   "id": "88f24b7a",
   "metadata": {},
   "outputs": [],
   "source": []
  },
  {
   "cell_type": "markdown",
   "id": "a110bd30",
   "metadata": {},
   "source": [
    "### 4 - Escreva o algoritmo de busca binária (na forma recursiva e não recursiva) e faça a análise de tempo de execução do pior caso de cada algoritmo. Dica: Assista ao vídeo sobre análise de complexidade na plataforma."
   ]
  },
  {
   "cell_type": "markdown",
   "id": "308e248e",
   "metadata": {},
   "source": [
    "#### Resolução:\n",
    "\n",
    "##### Quando a busca binaria  encontra um valor incorreto o restante do array que contem os possiveis valores razoaveis se reduz pela metade na proxima iteracao. No caso do array abaixo existem 16 elementos, a cada erro de busca ele se dividira pela metade 8. Nesse caso o valor seria log n\n",
    "\n",
    "- log(base2) 16 = 4+1(iteracao a mais para encontrar o valor 1)  -> 5 iteracoes para encontrar um elemento em um algoritmo com 16 elementos \n",
    "\n",
    "-  O pior caso da busca binaria é O(lg n) onde se faz toda as iteracoes e nao se encontra o elemento\n"
   ]
  },
  {
   "cell_type": "code",
   "execution_count": 260,
   "id": "870c0936",
   "metadata": {
    "scrolled": true
   },
   "outputs": [
    {
     "name": "stdout",
     "output_type": "stream",
     "text": [
      "Palpite muito baixo\n",
      "Palpite muito baixo\n",
      "O numero se encontra na posicao 9\n"
     ]
    },
    {
     "data": {
      "text/plain": [
       "9"
      ]
     },
     "execution_count": 260,
     "metadata": {},
     "output_type": "execute_result"
    }
   ],
   "source": [
    "random_numbers = [1,2,3,4,5,6,23,77,88,100,106,123,177,188,200,201] \n",
    "\n",
    "def binary_search(random_numbers, search_number):\n",
    "    min = 1\n",
    "    max = len(random_numbers) - 1\n",
    "\n",
    "    while min <= max :\n",
    "        guess = round((max + min)/2)    \n",
    "        if search_number == random_numbers[guess]:\n",
    "            print(f\"O numero se encontra na posicao {guess}\")\n",
    "            return guess\n",
    "        elif search_number < random_numbers[guess]:\n",
    "            max = max - 1\n",
    "            print(\"Palpite muito alto\")\n",
    "        else:\n",
    "            min = min + 1\n",
    "            print(\"Palpite muito baixo\")\n",
    "    \n",
    "    return -1 \n",
    "\n",
    "binary_search(random_numbers,100)"
   ]
  },
  {
   "cell_type": "code",
   "execution_count": 261,
   "id": "8283efdb",
   "metadata": {},
   "outputs": [
    {
     "name": "stdout",
     "output_type": "stream",
     "text": [
      "5\n"
     ]
    }
   ],
   "source": [
    "random_numbers = [1,2,3,4,5,6,23,77,88,100] \n",
    "count = 0\n",
    "def recursive_binary_search(max, min, search_number, random_numbers,count):\n",
    "    guess = round((max + min)/2)    \n",
    "    \n",
    "    if max <= min:\n",
    "        return -1\n",
    "    \n",
    "    if random_numbers[guess] == search_number:\n",
    "        return guess\n",
    "    elif search_number < random_numbers[guess]:\n",
    "        max = max - 1\n",
    "        print(\"Palpite muito alto\")\n",
    "        return recursive_binary_search(max, min, search_number, random_numbers,count)\n",
    "    else:\n",
    "        min = min + 1\n",
    "        print(\"Palpite muito baixo\")\n",
    "        return recursive_binary_search(max, min, search_number, random_numbers,count)\n",
    "\n",
    "min = 1\n",
    "max = len(random_numbers) - 1\n",
    "print(recursive_binary_search(max,min,6,random_numbers,count))"
   ]
  },
  {
   "cell_type": "markdown",
   "id": "007e3a9d",
   "metadata": {},
   "source": [
    "#### Resolução:\n",
    "\n",
    "##### A versao recursiva do algoritmo recebe como parametro  a lista, o item a ser encontrado,  e as posicoes do inicio e fim. Inicialmente encontrase a posicao central atraves da média  do total de elementos + 1 . A seguir existem duas condicoes onde o método é novamente chamado  caso o valor obtido atraves do indice médio é muito baixo ou se ele é muito alto. O método para se ele encontrar o numero buscado ou se o numero maximo for menor ou igual a 1\n",
    "\n",
    "\n",
    "#####  A complexidade da busca binaria é $O(lg n)$ e  $\\Omega(1)$ "
   ]
  },
  {
   "cell_type": "markdown",
   "id": "c1d54e28",
   "metadata": {},
   "source": [
    "# Parte 2 – Revisão de Programação Básica"
   ]
  },
  {
   "cell_type": "markdown",
   "id": "44fab470",
   "metadata": {},
   "source": [
    "### 5 - Faça um programa que leia um texto do usuário e conte o número de vogais que aparecem. O texto fornecido deve estar em um arquivo."
   ]
  },
  {
   "cell_type": "markdown",
   "id": "126dd357",
   "metadata": {},
   "source": [
    "#### Resolução:\n",
    "##### O algoritmo utilizado le a primeira linha de um arquivo para pegar palavra. Depois percorre cada letra da palara e verifica se essa letra esta contida no vetor de vogais. Se tiver , acrescenta  +1 no contador de vogai."
   ]
  },
  {
   "cell_type": "code",
   "execution_count": 262,
   "id": "581cceac",
   "metadata": {},
   "outputs": [
    {
     "name": "stdout",
     "output_type": "stream",
     "text": [
      "Numero de vogais na palavra 5\n"
     ]
    }
   ],
   "source": [
    "vowels = ['a','e','i','o','u']\n",
    "number_vowels = 0\n",
    "with open(\"question5.txt\", \"r\") as file:\n",
    "    word = file.readline()\n",
    "    for vowel_word in word:\n",
    "        for vowel in vowels:\n",
    "            if vowel_word == vowel:\n",
    "                number_vowels = number_vowels + 1\n",
    "        \n",
    "    print(f'Numero de vogais na palavra {number_vowels}')\n",
    "    file.close()"
   ]
  },
  {
   "cell_type": "markdown",
   "id": "a62012d4",
   "metadata": {},
   "source": [
    "#### A complexidade algoritmica é  quadrática $O(n^2)$ "
   ]
  },
  {
   "cell_type": "markdown",
   "id": "4b082b3b",
   "metadata": {},
   "source": [
    "### 6 – Escrever uma função (e um programa que execute tal função) que determine se uma matriz quadrada de dimensão n(n<100) é uma matriz de permutação. Uma matriz quadrada é chamada de matriz de permutação se seus elementos são apenas 0’s e 1’s e se em cada linha e coluna da matriz existe apenas um único valor 1. "
   ]
  },
  {
   "cell_type": "markdown",
   "id": "c8674e16",
   "metadata": {},
   "source": [
    "#### Resolução:\n",
    "##### Foi implementado dois métodos para a solução. O primeiro método percorre as linhas e colunas e verifica se as somas dos valores das linhas e colunas é maior que 1. Se for maior ele retorna um boleano False. Caso nao seja, ele retorna True. O segundo método simplesmente espera o resultado do método permutacao e printa uma mensagem indicando se é ou nao uma matriz de permutação\n"
   ]
  },
  {
   "cell_type": "code",
   "execution_count": 263,
   "id": "3ba00d41",
   "metadata": {
    "scrolled": false
   },
   "outputs": [
    {
     "name": "stdout",
     "output_type": "stream",
     "text": [
      "A matriz é permutacao\n",
      "A matriz nao é de permutacao\n",
      "A matriz é permutacao\n",
      "A matriz é permutacao\n",
      "A matriz nao é de permutacao\n",
      "A matriz é permutacao\n"
     ]
    }
   ],
   "source": [
    "import numpy as np\n",
    "\n",
    "def permutacao(matriz,n):\n",
    "    if n > 100:\n",
    "        return False\n",
    "\n",
    "        \n",
    "    soma_coluna = np.zeros(n);\n",
    "    soma_linhas = 0    \n",
    "    \n",
    "    for i in range(n):             \n",
    "        for j in range(n):\n",
    "            if matriz[i][j] != 1 and matriz[i][j] != 0:\n",
    "                return False \n",
    "            else:\n",
    "                soma_coluna[j] = matriz[i][j]\n",
    "                soma_linhas = soma_linhas + matriz[i][j]\n",
    "\n",
    "            if soma_linhas > 1:\n",
    "                return False\n",
    "            \n",
    "        soma_linhas = 0\n",
    "    \n",
    "    soma = 0\n",
    "    for i in range(n):\n",
    "        soma += soma_coluna[i]\n",
    "        if soma > 1:\n",
    "            return False\n",
    "\n",
    "        \n",
    "    return True\n",
    "            \n",
    "   \n",
    "m1 = [\n",
    "    [0, 1, 0],\n",
    "    [1, 0, 0],\n",
    "    [0, 0, 1],\n",
    "]\n",
    "\n",
    "m2 = [\n",
    "    [0, 1, 0],\n",
    "    [1, 0, 0],\n",
    "    [0, 1, 1],\n",
    "]\n",
    "\n",
    "m3 = [\n",
    "    [0, 1, 0],\n",
    "    [1, 0, 0],\n",
    "    [1, 0, 0],\n",
    "]            \n",
    "\n",
    "\n",
    "m4 = [\n",
    "    [1, 0, 0],\n",
    "    [0, 1, 0],\n",
    "    [1, 0, 0],\n",
    "]\n",
    "\n",
    "m5 = [\n",
    "    [0, 1, 0, 0],\n",
    "    [0, 0, 1, 0],\n",
    "    [0, 1, 1, 0],\n",
    "    [1, 0, 0, 1]\n",
    "]\n",
    "\n",
    "m6 = [\n",
    "    [0, 1, 0, 0],\n",
    "    [0, 0, 1, 0],\n",
    "    [1, 0, 0, 0],\n",
    "    [0, 0, 0, 1]\n",
    "]\n",
    "\n",
    "\n",
    "def is_matriz_permutation(matriz,n):\n",
    "    perm = permutacao(matriz, n)\n",
    "    \n",
    "    if perm == True:\n",
    "        print(\"A matriz é permutacao\")\n",
    "    else:\n",
    "        print(\"A matriz nao é de permutacao\")\n",
    "\n",
    "        \n",
    "is_matriz_permutation(m1,3)\n",
    "is_matriz_permutation(m2,3)\n",
    "is_matriz_permutation(m3,3)\n",
    "is_matriz_permutation(m4,3)\n",
    "is_matriz_permutation(m5,4)\n",
    "is_matriz_permutation(m6,4)"
   ]
  },
  {
   "cell_type": "markdown",
   "id": "413ad21e",
   "metadata": {},
   "source": [
    "##### Na implementação do metodo permutacao, a complexidade é  quadratica ${O(nˆ2)}$"
   ]
  },
  {
   "cell_type": "markdown",
   "id": "a5db0d69",
   "metadata": {},
   "source": [
    "### 7 - Dado o polinômio $p(x) = a_0 + a_1x + \\dots + a_nx^n$, isto é, os valores de $n$ e de $a_0, a_1, \\dots, a_n$, determine os coeficientes reais da primeira derivada de $p(x)$, utilize os conceitos aprendidos de alocação dinâmica e de funções."
   ]
  },
  {
   "cell_type": "markdown",
   "id": "fabc0b62",
   "metadata": {},
   "source": [
    "#### Resolução:\n",
    "\n",
    "#### Para validação foi utilizado a função $p(x) = 2x^4+4x^3+3x^2$. A primeira derivada dessa funcao é  $p(x) = 8x^3+12x^2+6x^1$ \n",
    "\n",
    "* Uma limitacao do método apresentado é equalizar a separacao dos sinais com as outras expressoes . Em funções com constantes, um operador a mais vai ser inserido no fim *"
   ]
  },
  {
   "cell_type": "code",
   "execution_count": 264,
   "id": "a386c43b",
   "metadata": {},
   "outputs": [
    {
     "name": "stdout",
     "output_type": "stream",
     "text": [
      "8x^3+12x^2+6x^1\n",
      "8x^3+12x^2+\n"
     ]
    }
   ],
   "source": [
    "import re\n",
    "import math \n",
    "\n",
    "equation = \"2x^4+4x^3+3x^2\"\n",
    "limi_equation = \"2x^4+4x^3+3\"\n",
    "\n",
    "sinais = ['+','-','*','/']\n",
    "def _split_equation(expressao):\n",
    "    return re.split(\"([+-/*])\", expressao.replace(\" \", \"\"))\n",
    "\n",
    "def manipulate_the_expressions(equation):\n",
    "    math_expression = []\n",
    "    sinais_expression = []\n",
    "    for expression in _split_equation(equation):\n",
    "        if not expression in sinais:\n",
    "            math_expression.append(expression)\n",
    "            continue\n",
    "        \n",
    "        sinais_expression.append(expression)\n",
    "    \n",
    "    return math_expression, sinais_expression\n",
    "    \n",
    "\n",
    "def derivate_expression(ex):\n",
    "    if not 'x' in ex[0]:\n",
    "        return ''\n",
    "    \n",
    "    if len(ex)>1:\n",
    "        indice =  int(ex[0][0])\n",
    "        coeficiente  = int(ex[1])\n",
    "        new_ex = f\"{indice*coeficiente}{ex[0][1]}^{coeficiente-1}\"\n",
    "        return new_ex\n",
    "    elif len(ex) == 1:\n",
    "        return f'{ex[0][0]}'\n",
    "\n",
    "    \n",
    "def print_equation(math_expression, sinais_expression):\n",
    "    response = ''\n",
    "    \n",
    "    for i in range(len(math_expression)):\n",
    "        if math_expression[i] == '':\n",
    "            continue\n",
    "\n",
    "        response+=math_expression[i] \n",
    "        if i < len(sinais_expression):\n",
    "            response+=sinais_expression[i]\n",
    "                \n",
    "    return response\n",
    "        \n",
    "        \n",
    "\n",
    "def derivative(equation):\n",
    "    math_expression, sinais_expression = manipulate_the_expressions(equation)\n",
    "    derivative_list = [derivate_expression(ex.split('^')) for ex in math_expression]\n",
    "\n",
    "    return print_equation(derivative_list,sinais_expression)\n",
    "\n",
    "print(derivative(equation))\n",
    "print(derivative(limi_equation))"
   ]
  },
  {
   "cell_type": "markdown",
   "id": "1ef69e81",
   "metadata": {},
   "source": [
    "##### Na implementação do metodo derivative a complexidade é linear ${O(n)}$"
   ]
  },
  {
   "cell_type": "markdown",
   "id": "c7ecf0c4",
   "metadata": {},
   "source": [
    "### 8 – Conjuntos podem ser representados pela lista de seus elementos. Supondo esta  representação, escreva funções para as operações usuais de conjunto: (a) união (C= A∪B), (b) interseção (C= A ∩ B), (c) diferença (C= A-B) e (d) pertinência. Neste caso, vocês criarão novos nós para compor a lista C."
   ]
  },
  {
   "cell_type": "markdown",
   "id": "0e3cf6a6",
   "metadata": {},
   "source": [
    "###### Lista de encadeamento simples é uma lista onde cada nó possui uma referencia para o nó posterior. Esse tipo de lista possui ligacao unidirecional, ao contrario de uma  uma lista duplamente encadeada, onde a ligacao é bidirecional.\n",
    "\n",
    "\n",
    "###### O algoritmo desenvolvido possui duas classes Noh e LinkedList. A classe LinkedList possui uma referência para o primeiro noh, esse primeiro noh possui uma referência para o posterior(self.next). A ligacao unidirecional desses nois repete se até o ultimo nó, que possui o atributo posterior( self.next) apontando para um None"
   ]
  },
  {
   "cell_type": "code",
   "execution_count": 265,
   "id": "1005065f",
   "metadata": {
    "scrolled": false
   },
   "outputs": [],
   "source": [
    "\n",
    "class Noh:\n",
    "    def __init__(self, data=0, next_noh=None):\n",
    "        self.data = data\n",
    "        self.next = next_noh\n",
    "\n",
    "    def __repr__(self):\n",
    "        return f'{self.data} > {self.next}'\n",
    "\n",
    "class LinkedList:\n",
    "    def __init__(self):\n",
    "        self.head = None\n",
    "\n",
    "    def __repr__(self):\n",
    "        return f\"[{str(self.head)}]\"\n",
    "\n",
    "    def insert_in_begin(self, new_data):\n",
    "        new_noh = Noh(new_data)\n",
    "\n",
    "        new_noh.next = self.head\n",
    "        self.head = new_noh\n",
    "        \n",
    "    def insert_at_the_end(self, new_data):\n",
    "        \n",
    "        if self.head:\n",
    "            chain  = self.head\n",
    "            while chain.next:\n",
    "                chain = chain.next\n",
    "\n",
    "            if self.search(chain.data):\n",
    "                new_noh = Noh(new_data)\n",
    "                new_noh.next = chain.next\n",
    "                chain.next = new_noh\n",
    "        else:\n",
    "            self.insert_in_begin(new_data)\n",
    "        \n",
    "    def search(self, number):\n",
    "        chain = self.head\n",
    "        while  chain and chain.data != number:\n",
    "            chain = chain.next\n",
    "        \n",
    "        return chain\n",
    "    \n",
    "    def remove(self, valor):\n",
    "        if not self.head:\n",
    "            print(\"Lista vazia.\")\n",
    "\n",
    "        if self.head.data == valor:\n",
    "            self.head = self.head.next\n",
    "        else:\n",
    "            previous = None\n",
    "            chain = self.head\n",
    "            while chain and chain.data != valor:\n",
    "                previous = chain\n",
    "                chain = chain.next\n",
    "            if chain:\n",
    "                previous.next = chain.next\n",
    "            else:\n",
    "                previous.next = None\n",
    "                \n",
    "    def add_set_union(self, chain, set_c_union):\n",
    "\n",
    "        if not set_c_union.pertinencia(chain.data):\n",
    "            if set_c_union.head:\n",
    "                set_c_union.insert_at_the_end(chain.data)\n",
    "            else:\n",
    "                set_c_union.insert_in_begin(chain.data)\n",
    "                \n",
    "    def union(self, lista):\n",
    "        chain = self.head\n",
    "        chain_list  = lista.head\n",
    "        set_c_union = LinkedList()\n",
    "        \n",
    "        while chain_list:\n",
    "            self.add_set_union(chain_list, set_c_union)\n",
    "            chain_list = chain_list.next\n",
    "            \n",
    "        while chain:\n",
    "            self.add_set_union(chain, set_c_union)\n",
    "            chain = chain.next\n",
    "\n",
    "        return set_c_union\n",
    "        \n",
    "        \n",
    "    def intersection(self, lista):\n",
    "        chain_lista1 = self.head\n",
    "        chain_lista2 = lista.head\n",
    "        intersection = LinkedList()\n",
    "    \n",
    "        while chain_lista1:\n",
    "            while chain_lista2:\n",
    "                if chain_lista2.data != chain_lista1.data:\n",
    "                    chain_lista2 = chain_lista2.next\n",
    "                    continue\n",
    "                \n",
    "                if not intersection.head:\n",
    "                    intersection.head = chain_lista2\n",
    "                    break\n",
    "                \n",
    "                intersection.insert_in_begin(chain_lista2.data)\n",
    "                \n",
    "                chain_lista2 = None \n",
    "                    \n",
    "            chain_lista1 = chain_lista1.next\n",
    "            \n",
    "        return intersection\n",
    "    \n",
    "    \n",
    "    def diference(self, lista):\n",
    "        lista_intersection = self.intersection(lista)\n",
    "        chain_lista2 = lista_intersection.head\n",
    "        diference = LinkedList()\n",
    "\n",
    "        while chain_lista2:\n",
    "            self.remove(chain_lista2.data)\n",
    "            chain_lista2 = chain_lista2.next\n",
    "            \n",
    "        # return self\n",
    "        # feito somente para atender a necessidade do exercicio\n",
    "        chain = self.head\n",
    "        while chain:\n",
    "            diference.insert_in_begin(chain.data)\n",
    "            chain = chain.next\n",
    "        \n",
    "        return diference\n",
    "            \n",
    "            \n",
    "    def pertinencia(self, data):\n",
    "        if self.search(data):\n",
    "            return True \n",
    "\n",
    "        return False\n",
    "    \n",
    "    def reverse(self):\n",
    "        prev = None\n",
    "        chain = self.head\n",
    "        while chain:\n",
    "            next = chain.next\n",
    "            chain.next = prev\n",
    "            prev = chain\n",
    "            chain = next\n",
    "        self.head = prev\n",
    "        return self\n",
    "        \n",
    "        "
   ]
  },
  {
   "cell_type": "markdown",
   "id": "63215f35",
   "metadata": {},
   "source": [
    "##### (a) união (C= A∪B)"
   ]
  },
  {
   "cell_type": "code",
   "execution_count": 266,
   "id": "909df966",
   "metadata": {
    "scrolled": true
   },
   "outputs": [
    {
     "name": "stdout",
     "output_type": "stream",
     "text": [
      "union : [5 > 4 > 3 > 7 > 12 > 2 > 1 > None]\n"
     ]
    }
   ],
   "source": [
    "    \n",
    "lista1 = LinkedList()\n",
    "lista1.insert_in_begin(12)\n",
    "lista1.insert_in_begin(7)\n",
    "lista1.insert_in_begin(1)\n",
    "lista1.insert_in_begin(2)\n",
    "lista1.insert_in_begin(3)\n",
    "\n",
    "lista2 = LinkedList()\n",
    "lista2.insert_in_begin(12)\n",
    "lista2.insert_in_begin(7)\n",
    "lista2.insert_in_begin(3)\n",
    "lista2.insert_in_begin(4)\n",
    "lista2.insert_in_begin(5)\n",
    "\n",
    "\n",
    "print(\"union :\", lista1.union(lista2))"
   ]
  },
  {
   "cell_type": "markdown",
   "id": "0eb6494a",
   "metadata": {},
   "source": [
    "##### Na implementação do metodo intersection a complexidade é linear ${O(n)}$"
   ]
  },
  {
   "cell_type": "markdown",
   "id": "e0fbb22d",
   "metadata": {},
   "source": [
    "##### (b) interseção (C= A ∩ B)"
   ]
  },
  {
   "cell_type": "code",
   "execution_count": 267,
   "id": "64873eeb",
   "metadata": {},
   "outputs": [
    {
     "name": "stdout",
     "output_type": "stream",
     "text": [
      "intersection : [3 > 7 > 12 > None]\n"
     ]
    }
   ],
   "source": [
    "    \n",
    "lista1 = LinkedList()\n",
    "lista1.insert_in_begin(12)\n",
    "lista1.insert_in_begin(7)\n",
    "lista1.insert_in_begin(1)\n",
    "lista1.insert_in_begin(2)\n",
    "lista1.insert_in_begin(3)\n",
    "\n",
    "lista2 = LinkedList()\n",
    "lista2.insert_in_begin(12)\n",
    "lista2.insert_in_begin(7)\n",
    "lista2.insert_in_begin(3)\n",
    "lista2.insert_in_begin(4)\n",
    "lista2.insert_in_begin(5)\n",
    "\n",
    "print(\"intersection :\", lista1.intersection(lista2))\n"
   ]
  },
  {
   "cell_type": "markdown",
   "id": "a71136b5",
   "metadata": {},
   "source": [
    "##### Na implementação do metodo intersection a complexidade é  ${O(nˆ2)}$ e $\\Omega(n)$ "
   ]
  },
  {
   "cell_type": "markdown",
   "id": "25f53793",
   "metadata": {},
   "source": [
    "#### (c) diferença (C= A-B)"
   ]
  },
  {
   "cell_type": "code",
   "execution_count": 268,
   "id": "273fbb96",
   "metadata": {},
   "outputs": [
    {
     "name": "stdout",
     "output_type": "stream",
     "text": [
      "diference : [1 > 2 > None]\n"
     ]
    }
   ],
   "source": [
    "lista1 = LinkedList()\n",
    "lista1.insert_in_begin(12)\n",
    "lista1.insert_in_begin(7)\n",
    "lista1.insert_in_begin(1)\n",
    "lista1.insert_in_begin(2)\n",
    "lista1.insert_in_begin(3)\n",
    "\n",
    "lista2 = LinkedList()\n",
    "lista2.insert_in_begin(12)\n",
    "lista2.insert_in_begin(7)\n",
    "lista2.insert_in_begin(3)\n",
    "lista2.insert_in_begin(4)\n",
    "lista2.insert_in_begin(5)\n",
    "\n",
    "print(\"diference :\", lista1.diference(lista2))"
   ]
  },
  {
   "cell_type": "markdown",
   "id": "39b713e6",
   "metadata": {},
   "source": [
    "##### Na implementação do metodo diference a complexidade é quadrática  ${O(nˆ2)}$ "
   ]
  },
  {
   "cell_type": "markdown",
   "id": "a7ef745f",
   "metadata": {},
   "source": [
    "#### (d) pertinência"
   ]
  },
  {
   "cell_type": "code",
   "execution_count": 269,
   "id": "02fd05f1",
   "metadata": {},
   "outputs": [
    {
     "name": "stdout",
     "output_type": "stream",
     "text": [
      "pertinencia : True\n"
     ]
    }
   ],
   "source": [
    "lista1 = LinkedList()\n",
    "lista1.insert_in_begin(12)\n",
    "lista1.insert_in_begin(7)\n",
    "lista1.insert_in_begin(1)\n",
    "lista1.insert_in_begin(2)\n",
    "lista1.insert_in_begin(3)\n",
    "\n",
    "print(\"pertinencia :\", lista1.pertinencia(7))"
   ]
  },
  {
   "cell_type": "markdown",
   "id": "abca003c",
   "metadata": {},
   "source": [
    "##### Na implementação do metodo pertinencia a complexidade é  ${O(n)}$ e  $\\Omega(1)$ "
   ]
  },
  {
   "cell_type": "markdown",
   "id": "50d5fc88",
   "metadata": {},
   "source": [
    "### 9 – Considere listas implementadas por encadeamento duplo, entao pede-se para implementar funções que:"
   ]
  },
  {
   "cell_type": "markdown",
   "id": "69742534",
   "metadata": {},
   "source": [
    "##### Nas listas duplamente encadeadas todos os nois possuem um elemento que aponta para o proximo no, e um elemento que aponta para o nó anterior.\n",
    "\n",
    "##### O encadeamento do nois sao representados da seguinte maneita {chain.previous} <- {chain.data} -> {chain.next}\n",
    "- Ex:  None <- 3 -> 4|  3 <- 4 -> 6|  4 <- 6 -> 5|  6 <- 5 -> 9|  5 <- 9 -> 7|  9 <- 7 -> None| "
   ]
  },
  {
   "cell_type": "code",
   "execution_count": 270,
   "id": "b4d3f450",
   "metadata": {},
   "outputs": [],
   "source": [
    "import numbers\n",
    "class Noh:\n",
    "    def __init__(self, data=0, next_noh=None, previous_noh=None):\n",
    "        self.data = data\n",
    "        self.next = next_noh\n",
    "        self.previous = previous_noh\n",
    "    \n",
    "    def __str__(self):\n",
    "        return str(self.data)\n",
    "\n",
    "class DoubleLinkedList:\n",
    "    def __init__(self):\n",
    "        self.head = None\n",
    "        self.tail = None\n",
    "        self._lenght = 0\n",
    "\n",
    "\n",
    "    def __str__(self):\n",
    "        chain = self.head\n",
    "        response = \"\" \n",
    "        while chain:\n",
    "            response += f\" {chain.previous} <- {chain.data} -> {chain.next}| \"\n",
    "            chain = chain.next\n",
    "\n",
    "        return response\n",
    "    \n",
    "    def empty(self):\n",
    "        if not self.head:\n",
    "            return True\n",
    "        return False\n",
    "\n",
    "    def insert_in_begin(self, data):\n",
    "        noh = Noh(data)\n",
    "        \n",
    "        if self.empty():\n",
    "            self.head = noh\n",
    "        else:\n",
    "            noh.next = self.head\n",
    "            self.head.previous = noh\n",
    "            noh.previous = None\n",
    "            self.head = noh\n",
    "        \n",
    "        self.tail = self.get_tail()\n",
    "        self._lenght += 1\n",
    "    \n",
    "    \n",
    "    def get_tail(self):\n",
    "        chain = self.head\n",
    "        while chain.next:\n",
    "            chain = chain.next\n",
    "            \n",
    "        return chain\n",
    "    \n",
    "    def insert_at_the_end(self, data):\n",
    "        noh = Noh(data)\n",
    "        \n",
    "        if self.empty():\n",
    "            self.head = noh\n",
    "            self.tail = noh\n",
    "        else:\n",
    "            self.tail.next = noh\n",
    "            noh.previous = self.tail\n",
    "            noh.next = None\n",
    "            self.tail = noh\n",
    "            \n",
    "        self._lenght += 1\n",
    "    \n",
    "    \n",
    "    def concat(self, lista):\n",
    "        if self.tail and lista.head:\n",
    "            self.tail.next = lista.head\n",
    "            lista.head.previous = self.tail\n",
    "            \n",
    "        return self\n",
    "        \n",
    "    def search(self, number):\n",
    "        chain = self.head\n",
    "        while  chain and chain.data != number:\n",
    "            chain = chain.next\n",
    "        \n",
    "        return chain\n",
    "    \n",
    "\n",
    "    def remove(self, valor):\n",
    "        self.next = next_noh\n",
    "        self.previous = previous_noh\n",
    "        \n",
    "        if not self.head:\n",
    "            print(\"Lista vazia.\")\n",
    "        noh = search(valor)\n",
    "        if noh:\n",
    "            next = noh.next\n",
    "            previous = noh.previous\n",
    "            previous.next = next\n",
    "            next.previous = previous\n",
    "            noh = None\n",
    "            \n",
    "        print('Noh nao encontrado')\n",
    "        \n",
    "    \n",
    "    def index(self, index):\n",
    "        current = self.head\n",
    "        for i in range(index):\n",
    "            current = current.next\n",
    "        return current\n",
    "        \n",
    "    def split(self, k):\n",
    "        split_lists = []\n",
    "        if k < self._lenght:\n",
    "            if self._lenght % k == 0:\n",
    "                split_list = DoubleLinkedList()\n",
    "                number_split = int(self._lenght/k)\n",
    "                \n",
    "                nohs  = range(0, self._lenght, number_split)\n",
    "                for i in nohs:\n",
    "                    iterations = 0\n",
    "\n",
    "                    split_list = DoubleLinkedList()\n",
    "                    noh_current = self.index(i)\n",
    "                \n",
    "                    while noh_current and iterations < number_split:\n",
    "                        split_list.insert_in_begin(noh_current)\n",
    "                        noh_current = noh_current.next\n",
    "                        iterations+=1\n",
    "\n",
    "\n",
    "                    \n",
    "                    split_lists.append(split_list)\n",
    "            else:\n",
    "                print(\"O numero de splits excede o tamanho da lista\")\n",
    "        else:\n",
    "            print(\"O numero de splits excede o tamanho da lista\")\n",
    "                   \n",
    "        return split_lists\n",
    "    \n",
    "    \n",
    "    def copy(self):\n",
    "        chain = self.head\n",
    "        temp = DoubleLinkedList()\n",
    "        while chain:\n",
    "            temp.insert_at_the_end(chain.data)\n",
    "            chain = chain.next\n",
    "        return temp\n",
    "                    \n",
    "    def sort(self, flag_decreasing=0):\n",
    "        if self.head == None:  \n",
    "            return;  \n",
    "   \n",
    "        if isinstance(flag_decreasing,  numbers.Number): \n",
    "            chain = self.head\n",
    "            while chain:\n",
    "                index = chain.next;  \n",
    "                while index:  \n",
    "                    if flag_decreasing == -1:\n",
    "                        if(chain.data < index.data):  \n",
    "                            temp = chain.data;  \n",
    "                            chain.data = index.data;  \n",
    "                            index.data = temp;\n",
    "                    else:\n",
    "                        if(chain.data > index.data):  \n",
    "                            temp = chain.data;  \n",
    "                            chain.data = index.data;  \n",
    "                            index.data = temp;\n",
    "                    index = index.next  \n",
    "                chain = chain.next  \n",
    "        else:\n",
    "            print(\"flag deve ser -1 caso queira a lista decrescente\")\n",
    "            \n",
    "        return self\n",
    "        \n",
    "        \n",
    "        \n",
    "           "
   ]
  },
  {
   "cell_type": "markdown",
   "id": "52ff0ca1",
   "metadata": {},
   "source": [
    "##### a) Localize/ Pesquise/Encontre (search) elementos"
   ]
  },
  {
   "cell_type": "code",
   "execution_count": 271,
   "id": "a06d2d44",
   "metadata": {},
   "outputs": [
    {
     "name": "stdout",
     "output_type": "stream",
     "text": [
      "Double Linked List  None <- 6 -> 4|  6 <- 4 -> 3|  4 <- 3 -> None| \n",
      "4\n"
     ]
    }
   ],
   "source": [
    "double_linked_lista = DoubleLinkedList()\n",
    "double_linked_lista.insert_in_begin(3)\n",
    "double_linked_lista.insert_in_begin(4)\n",
    "double_linked_lista.insert_in_begin(6)\n",
    "print(f'Double Linked List {double_linked_lista}')\n",
    "print(double_linked_lista.search(4))"
   ]
  },
  {
   "cell_type": "markdown",
   "id": "b1c053b1",
   "metadata": {},
   "source": [
    "##### Na implementação do metodo de insercao a analise da complexidade é constante O(1) e no metodo search O(n) e $\\Omega(1)$ "
   ]
  },
  {
   "cell_type": "markdown",
   "id": "2d996836",
   "metadata": {},
   "source": [
    "##### b) Concatenar/intercalar (Merge) duas listas"
   ]
  },
  {
   "cell_type": "code",
   "execution_count": 272,
   "id": "df47efc6",
   "metadata": {},
   "outputs": [
    {
     "name": "stdout",
     "output_type": "stream",
     "text": [
      "6\n",
      " None <- 3 -> 4|  3 <- 4 -> 6|  4 <- 6 -> 5|  6 <- 5 -> 9|  5 <- 9 -> 7|  9 <- 7 -> None| \n"
     ]
    }
   ],
   "source": [
    "double_linked_lista = DoubleLinkedList()\n",
    "\n",
    "double_linked_lista.insert_at_the_end(3)\n",
    "double_linked_lista.insert_at_the_end(4)\n",
    "double_linked_lista.insert_at_the_end(6)\n",
    "\n",
    "double_linked_lista2 = DoubleLinkedList()\n",
    "\n",
    "double_linked_lista2.insert_at_the_end(5)\n",
    "double_linked_lista2.insert_at_the_end(9)\n",
    "double_linked_lista2.insert_at_the_end(7)\n",
    "\n",
    "print(double_linked_lista.tail)\n",
    "print(double_linked_lista.concat(double_linked_lista2))\n"
   ]
  },
  {
   "cell_type": "markdown",
   "id": "8e20297d",
   "metadata": {},
   "source": [
    "##### Na implementação do metodo concat a analise da complexidade é constante O(1)"
   ]
  },
  {
   "cell_type": "markdown",
   "id": "f92d870f",
   "metadata": {},
   "source": [
    "##### c) Dividir uma lista em várias (k)"
   ]
  },
  {
   "cell_type": "code",
   "execution_count": 273,
   "id": "b5a9059c",
   "metadata": {},
   "outputs": [
    {
     "name": "stdout",
     "output_type": "stream",
     "text": [
      " None <- 4 -> 9|  4 <- 9 -> 3|  9 <- 3 -> None| \n",
      " None <- 10 -> 8|  10 <- 8 -> 6|  8 <- 6 -> None| \n"
     ]
    }
   ],
   "source": [
    "double_linked_lista = DoubleLinkedList()\n",
    "\n",
    "double_linked_lista.insert_in_begin(10)\n",
    "double_linked_lista.insert_in_begin(8)\n",
    "double_linked_lista.insert_in_begin(6)\n",
    "double_linked_lista.insert_in_begin(4)\n",
    "double_linked_lista.insert_in_begin(9)\n",
    "double_linked_lista.insert_in_begin(3)\n",
    "\n",
    "lista = double_linked_lista.split(2)\n",
    "for db in lista:\n",
    "    print(db)\n"
   ]
  },
  {
   "cell_type": "markdown",
   "id": "4382fddb",
   "metadata": {},
   "source": [
    "##### Na implementação do metodo split a complexidade é  ${O(n^2)}$ e  $\\Omega(n)$ "
   ]
  },
  {
   "cell_type": "markdown",
   "id": "4b1ae958",
   "metadata": {},
   "source": [
    "##### d) Copiar uma lista "
   ]
  },
  {
   "cell_type": "code",
   "execution_count": 274,
   "id": "d6851483",
   "metadata": {},
   "outputs": [
    {
     "name": "stdout",
     "output_type": "stream",
     "text": [
      " None <- 10 -> 9|  10 <- 9 -> 8|  9 <- 8 -> 6|  8 <- 6 -> 4|  6 <- 4 -> 3|  4 <- 3 -> None| \n"
     ]
    }
   ],
   "source": [
    "double_linked_lista = DoubleLinkedList()\n",
    "\n",
    "double_linked_lista.insert_in_begin(3)\n",
    "double_linked_lista.insert_in_begin(4)\n",
    "double_linked_lista.insert_in_begin(6)\n",
    "double_linked_lista.insert_in_begin(8)\n",
    "double_linked_lista.insert_in_begin(9)\n",
    "double_linked_lista.insert_in_begin(10)\n",
    "\n",
    "print(double_linked_lista.copy())"
   ]
  },
  {
   "cell_type": "markdown",
   "id": "d3e531b3",
   "metadata": {},
   "source": [
    "##### Na implementação do metodo copy a complexidade linear   ${O(n)}$"
   ]
  },
  {
   "cell_type": "markdown",
   "id": "df9fa628",
   "metadata": {},
   "source": [
    "##### e) Ordenar (sort) em uma lista por ordem crescente/decrescente"
   ]
  },
  {
   "cell_type": "markdown",
   "id": "d4ae426d",
   "metadata": {},
   "source": [
    "###### Crescente"
   ]
  },
  {
   "cell_type": "code",
   "execution_count": 275,
   "id": "7a97a023",
   "metadata": {},
   "outputs": [
    {
     "name": "stdout",
     "output_type": "stream",
     "text": [
      " None <- 3 -> 4|  3 <- 4 -> 6|  4 <- 6 -> 8|  6 <- 8 -> 9|  8 <- 9 -> 10|  9 <- 10 -> None| \n"
     ]
    }
   ],
   "source": [
    "double_linked_lista = DoubleLinkedList()\n",
    "\n",
    "\n",
    "double_linked_lista.insert_in_begin(10)\n",
    "double_linked_lista.insert_in_begin(8)\n",
    "double_linked_lista.insert_in_begin(6)\n",
    "double_linked_lista.insert_in_begin(4)\n",
    "double_linked_lista.insert_in_begin(9)\n",
    "double_linked_lista.insert_in_begin(3)\n",
    "\n",
    "\n",
    "print(double_linked_lista.sort())"
   ]
  },
  {
   "cell_type": "markdown",
   "id": "46d0bce9",
   "metadata": {},
   "source": [
    "##### Na implementação do metodo sort a complexidade  quadratica ${O(n^2)}$"
   ]
  },
  {
   "cell_type": "markdown",
   "id": "7b00586a",
   "metadata": {},
   "source": [
    "##### Decrescente"
   ]
  },
  {
   "cell_type": "code",
   "execution_count": 276,
   "id": "e7c601a8",
   "metadata": {},
   "outputs": [
    {
     "name": "stdout",
     "output_type": "stream",
     "text": [
      " None <- 10 -> 9|  10 <- 9 -> 8|  9 <- 8 -> 6|  8 <- 6 -> 4|  6 <- 4 -> 3|  4 <- 3 -> None| \n"
     ]
    }
   ],
   "source": [
    "double_linked_lista = DoubleLinkedList()\n",
    "\n",
    "\n",
    "double_linked_lista.insert_in_begin(10)\n",
    "double_linked_lista.insert_in_begin(8)\n",
    "double_linked_lista.insert_in_begin(6)\n",
    "double_linked_lista.insert_in_begin(4)\n",
    "double_linked_lista.insert_in_begin(9)\n",
    "double_linked_lista.insert_in_begin(3)\n",
    "\n",
    "\n",
    "print(double_linked_lista.sort(-1))"
   ]
  },
  {
   "cell_type": "markdown",
   "id": "867a35c1",
   "metadata": {},
   "source": [
    "##### Na implementação do metodo sort a complexidade  quadratica  ${O(n^2)}$"
   ]
  },
  {
   "cell_type": "markdown",
   "id": "47e3df78",
   "metadata": {},
   "source": [
    "##### 10 - Escreva uma função para uma lista simplesmente encadeada, que inverta a direção das ligações"
   ]
  },
  {
   "cell_type": "code",
   "execution_count": 277,
   "id": "7dcf127d",
   "metadata": {},
   "outputs": [
    {
     "name": "stdout",
     "output_type": "stream",
     "text": [
      "[5]\n",
      "[1]\n",
      "1\n"
     ]
    }
   ],
   "source": [
    "lista1 = LinkedList()\n",
    "lista1.insert_in_begin(1)\n",
    "lista1.insert_in_begin(2)\n",
    "lista1.insert_in_begin(3)\n",
    "lista1.insert_in_begin(4)\n",
    "lista1.insert_in_begin(5)\n",
    "print(lista1)\n",
    "print(lista1.reverse())\n",
    "print(lista1.head.data)"
   ]
  },
  {
   "cell_type": "markdown",
   "id": "5d90ef99",
   "metadata": {},
   "source": [
    "##### Nesta questao utilizou uma lista endadeada onde os elementos podem ser inseridos tanto no inicio quando no fim. A lista é percorrida completamente onde 2 variaveis temporarias sao criadas next e prev. A variavel next recebe o next do elemento atual, o next do atual recebe o prev e o prev recebe atual, fazendo assim a inversao das trocas dos Nois. Apos isso chain=next é chamada e a iteracao segue para o proximo elemento do laço.\n",
    " \n",
    "##### Na implementação da solução podemos analisar o metodo reverse com complexidade O(n)\n"
   ]
  },
  {
   "cell_type": "markdown",
   "id": "fc241da5",
   "metadata": {},
   "source": [
    "##### 11 – Considere que um estacionamento da Av. Maracanã é composto por uma única alameda que guarda até dez carros. Existe apenas uma entrada/saída no estacionamento, e esta extremidade da alameda dá acesso justamente à Av. Maracanã. Se chegar um cliente para retirar um carro que não seja o mais próximo da saída, todos os carros bloqueando seu caminho sairão do estacionamento. O carro do cliente será manobrado para fora do estacionamento, e os outros carros voltarão a ocupar a mesma sequência inicial. Escreva um programa que processe um grupo de linhas de entrada. Cada linha de entrada contém um ‘E’, de entrada, ou um ‘S’ de saída, e o número da placa do carro. Presume-se que os carros cheguem e partam na mesma ordem que entraram no estacionamento. O programa deve imprimir uma mensagem sempre que um carro chegar ou sair. Quando um carro chegar, a mensagem deve especificar se existe ou não vaga para o carro no estacionamento. Se não houver vaga, o carro partirá sem entrar no estacionamento. Quando um carro sair do estacionamento, a mensagem deverá incluir o número de vezes em que o carro foi manobrado para fora do estacionamento para permitir que os outros carros saíssem."
   ]
  },
  {
   "cell_type": "code",
   "execution_count": 279,
   "id": "64f1e113",
   "metadata": {},
   "outputs": [
    {
     "name": "stdout",
     "output_type": "stream",
     "text": [
      "E BAC5010\n",
      "\n",
      "Car BAC5010 parking\n",
      " There are 10 parking spaces\n",
      "Car BAC5010 parking\n",
      "The car KOC1050 is not parking\n",
      "Car CKO1010 parking\n",
      " There are 9 parking spaces\n",
      "Car CKO1010 parking\n",
      "Car OCK5110 parking\n",
      " There are 8 parking spaces\n",
      "Car OCK5110 parking\n",
      "Car BCK1220 parking\n",
      " There are 7 parking spaces\n",
      "Car BCK1220 parking\n",
      "The car ACK1260 is not parking\n",
      "The car BAC9012 is not parking\n",
      "Car BAA1230 parking\n",
      " There are 6 parking spaces\n",
      "Car BAA1230 parking\n",
      "Car BCC0912 parking\n",
      " There are 5 parking spaces\n",
      "Car BCC0912 parking\n",
      "Type maneuver invalid\n",
      "Car ZZC1230 parking\n",
      " There are 4 parking spaces\n",
      "Car ZZC1230 parking\n",
      "Car KOC5010 parking\n",
      " There are 3 parking spaces\n",
      "Car KOC5010 parking\n"
     ]
    }
   ],
   "source": [
    "import os, sys\n",
    "\n",
    "\n",
    "class Noh:\n",
    "    def __init__(self, data=0, previous=None):\n",
    "        self.data = data\n",
    "        self.previous = previous\n",
    "\n",
    "    def __repr__(self):\n",
    "        return f'{self.data} -> {self.previous}'\n",
    "\n",
    "\n",
    "class Stack:\n",
    "    def __init__(self):\n",
    "        self.top = None\n",
    "        self.lenght = 0 \n",
    "    \n",
    "    def insert(self, data):\n",
    "        new_noh = Noh(data)\n",
    "        new_noh.previous = self.top\n",
    "        self.top = new_noh\n",
    "        self.lenght += 1\n",
    "\n",
    "    \n",
    "    def remove(self):\n",
    "        if self.top:\n",
    "            self.top = self.top.previous\n",
    "        \n",
    "class Car():\n",
    "    def __init__(self, license_plate):\n",
    "        self.license_plate = license_plate\n",
    "        self.lenght_handling = 0\n",
    "\n",
    "\n",
    "    def __str__(self):\n",
    "        return self.license_plate\n",
    "\n",
    "class Parking:\n",
    "    def __init__(self, vacancies=10):\n",
    "        self.parking = Stack()\n",
    "        self.vacancies = vacancies\n",
    "        \n",
    "    def process_input(self, type_maneauver, license_plate):\n",
    "        if type_maneauver == \"E\":\n",
    "            print(f\"Car {license_plate} parking\")\n",
    "            free_park = self.vacancies - self.parking.lenght\n",
    "            if free_park == 0:\n",
    "                print(\"There are no parking spaces\")\n",
    "                print(f\"Car leaving without parking {license_plate}\")\n",
    "            else:\n",
    "                print(f\" There are {free_park} parking spaces\")\n",
    "                self.park(license_plate)\n",
    "                print(f\"Car {license_plate} parking\")\n",
    "        elif type_maneauver == \"S\":\n",
    "            car = self.exit(license_plate)\n",
    "            if not car:\n",
    "                print(f\"The car {license_plate} is not parking\")\n",
    "            else:\n",
    "                print(f\"The car {license_plate} exit park\")\n",
    "                print(f\" {car.lenght_handling} maneuver performed\")\n",
    "        else:\n",
    "            print(\"Type maneuver invalid\")\n",
    "            \n",
    "    \n",
    "    def park(self, license_plate):\n",
    "        vacancies_open = self.vacancies - self.parking.lenght\n",
    "        if vacancies_open == 0:\n",
    "            return 0\n",
    "        else:\n",
    "            car = Car(license_plate)\n",
    "            self.parking.insert(car)\n",
    "            return 1\n",
    "        \n",
    "    def exit(self, license_plate):\n",
    "        zone_maneauver = Stack()\n",
    "        car = None\n",
    "        while self.parking.lenght > 0 :\n",
    "            car =self.parking.remove()\n",
    "            if not car:\n",
    "                break\n",
    "            if car.license_plate == license_plate:\n",
    "                break\n",
    "            car.lenght_handling += 1\n",
    "            zone_maneauver.insert(car)\n",
    "            \n",
    "        while zone_maneauver.lenght > 0:\n",
    "            temp_car =zone_maneauver.remover()\n",
    "            self.parking.insert(temp_car)\n",
    "        \n",
    "        return car\n",
    "\n",
    "\n",
    "parking  =  Parking(10)\n",
    "with open(\"estacionamento.txt\") as file:\n",
    "    cars = file.readline()\n",
    "    print(cars)\n",
    "    while cars != \"\":\n",
    "        parameters = cars.replace('\\n','').split(' ')\n",
    "        if len(parameters) == 1:\n",
    "            break\n",
    "        type_maneauver , license_plate = parameters\n",
    "        parking.process_input(type_maneauver, license_plate)\n",
    "        cars = file.readline()"
   ]
  },
  {
   "cell_type": "markdown",
   "id": "63f1936a",
   "metadata": {},
   "source": [
    "* Resolução :\n",
    "\n",
    "##### Na resolução deste problema o estacionamento foi interpretado como uma pilha. Quando o carro entra no estacionamemto ele entra na pilha como objeto , ja quando ele precisa sair  os outros objetos sao colocados em outra pilha chamada zone_maneauver. Toda vez que o carro é colocado em zone_maneauver o atributo lenght_handling é incrementado. Depois que um carro sai do estacionamento os que estao em zone_maneauver voltam a pilha de parking. O programa tem a capacidade de ler a placa e a manobra dos carros atraves de um arquivo. \n",
    "\n",
    "##### Na implementação da Solução podemos analisar o metodo insert e remove com complexidade constante O(1)"
   ]
  },
  {
   "cell_type": "markdown",
   "id": "dc6a02aa",
   "metadata": {},
   "source": [
    "##### 12 – Para um dado número inteiro n > 1, o menor inteiro d > 1 que divide n é chamado de fator primo. É possível determinar a fatoração prima de n achando-se o fator primo de substituindo n pelo quociente n / d, repetindo essa operação até que n seja igual a 1.Utilizando uma estrutura de pilha para auxiliá-lo na manipulação de dados, implemente um programa que compute a fatoração prima de um número imprimindo os seus fatores em ordem decrescente. Por exemplo, para n=3960, deverá ser impresso 11 * 5 * 3 * 3 * 2 * 2 * 2. Justifique a escolha do TAD utilizado."
   ]
  },
  {
   "cell_type": "code",
   "execution_count": null,
   "id": "a973d59b",
   "metadata": {},
   "outputs": [],
   "source": []
  },
  {
   "cell_type": "markdown",
   "id": "23f59093",
   "metadata": {},
   "source": [
    "##### 13 - Implemente uma estrutura de fila onde cada item da fila consista em um número variável de inteiros"
   ]
  },
  {
   "cell_type": "code",
   "execution_count": 280,
   "id": "2d8868fe",
   "metadata": {},
   "outputs": [],
   "source": [
    "class Noh:\n",
    "    def __init__(self, data=0, next=None):\n",
    "        self.data = data\n",
    "        self.next = next\n",
    "\n",
    "    def __str__(self):\n",
    "            \n",
    "        return f\"{self.data}  -> {self.next}\"\n",
    "\n",
    "class Queue:\n",
    "    def __init__(self, size):\n",
    "        self.first = None\n",
    "        self.last = None\n",
    "        self._lenght = 1\n",
    "\n",
    "    def __repr__(self):\n",
    "        return f\"[{str(self.first)}]\"\n",
    "\n",
    "    def append(self, new_data):\n",
    "        new_noh = Noh(new_data)\n",
    "        new_noh.next = self.first\n",
    "        self.last = new_noh.next\n",
    "        self.first = new_noh\n",
    "        self._lenght += 1\n",
    "        return self\n",
    "          \n",
    "        \n",
    "    def search(self, number):\n",
    "        chain = self.first\n",
    "        while  chain and chain.data != number:\n",
    "            chain = chain.next\n",
    "        \n",
    "        return chain\n",
    "    \n",
    "    def pop(self):\n",
    "        if not self.first:\n",
    "            print(\"Queue empty.\")\n",
    "            return self\n",
    "        \n",
    "        if not self.first.next:\n",
    "            self.first = None\n",
    "            self.last = None\n",
    "            print(\"Queue empty.\")\n",
    "            return \n",
    "            \n",
    "        chain = self.first\n",
    "        temp_previous = None\n",
    "        while chain.next:\n",
    "            temp_previous = chain\n",
    "            self.last = chain.next\n",
    "            chain = chain.next\n",
    "        \n",
    "        temp_front = self.last\n",
    "        temp_previous.next = None\n",
    "        self._lenght = self._lenght - 1\n",
    "        return self\n",
    "                \n",
    "                \n",
    "queue = Queue(4)"
   ]
  },
  {
   "cell_type": "code",
   "execution_count": 281,
   "id": "f3695da6",
   "metadata": {},
   "outputs": [
    {
     "name": "stdout",
     "output_type": "stream",
     "text": [
      "[1  -> None]\n",
      "[2  -> 1  -> None]\n",
      "[3  -> 2  -> 1  -> None]\n",
      "[4  -> 3  -> 2  -> 1  -> None]\n",
      "[5  -> 4  -> 3  -> 2  -> 1  -> None]\n",
      "[5  -> 4  -> 3  -> 2  -> None]\n"
     ]
    }
   ],
   "source": [
    "print(queue.append(1))\n",
    "print(queue.append(2))\n",
    "print(queue.append(3))\n",
    "print(queue.append(4))\n",
    "print(queue.append(5))\n",
    "print(queue.pop())"
   ]
  },
  {
   "cell_type": "markdown",
   "id": "94feb167",
   "metadata": {},
   "source": [
    "##### Na implementação da Queue  podemos analisar o metodo pop com complexidade O(n) e  append O(1)"
   ]
  },
  {
   "cell_type": "markdown",
   "id": "8f418688",
   "metadata": {},
   "source": [
    "##### 14 - Existem partes de sistemas operacionais que cuidam da ordem em que os programas devem ser executados. Por exemplo, em um sistema de computação de tempo-compartilhado (“time-shared”) existe a necessidade de manter um conjunto de processos em uma fila, esperando para serem executados.Escreva um programa que seja capaz de ler uma série de solicitações para:\n",
    "##### Você deve assumir que cada processo é representado por um registro composto por um número identificador do processo."
   ]
  },
  {
   "cell_type": "code",
   "execution_count": 288,
   "id": "a789e254",
   "metadata": {},
   "outputs": [],
   "source": [
    "from datetime import datetime\n",
    "from datetime import timedelta\n",
    "\n",
    "class Process:\n",
    "    def __init__(self, number_identifier=0, time_inside_in_queue=None):\n",
    "        self.number_identifier = number_identifier\n",
    "        self.next = next\n",
    "        self.time_inside_in_queue = time_inside_in_queue\n",
    "        \n",
    "        if time_inside_in_queue:\n",
    "            time_in_queue = datetime.today() + timedelta(seconds=time_inside_in_queue)\n",
    "            self.time_inside_in_queue = time_in_queue\n",
    "        else:\n",
    "            print('Teste')\n",
    "            now = datetime.now()\n",
    "            self.time_inside_in_queue = now\n",
    "    \n",
    "    def get_time_wait(self):\n",
    "        now = datetime.now()\n",
    "        wait = (now - self.time_inside_in_queue).total_seconds()\n",
    "        return wait\n",
    "\n",
    "    def __str__(self):\n",
    "        return f\"{self.number_identifier} {self.get_time_wait()}  -> {self.next}\"\n",
    "\n",
    "class QueuePriotityProcess:\n",
    "    def __init__(self, size):\n",
    "        self.first = None\n",
    "        self.last = None\n",
    "        self._lenght = 1\n",
    "        self.highest_priority = None\n",
    "\n",
    "    def __repr__(self):\n",
    "        return f\"[{str(self.first)}]\"\n",
    "\n",
    "    def insert_new_process(self, new_data,time_inside_in_queue=0):\n",
    "        new_process = Process(new_data, time_inside_in_queue)\n",
    "        new_process.next = self.first\n",
    "        self.last = new_process.next\n",
    "        self.first = new_process\n",
    "        self._lenght += 1\n",
    "        return self\n",
    "          \n",
    "        \n",
    "    def search(self, number):\n",
    "        chain = self.first\n",
    "        while  chain and chain.number_identifier != number:\n",
    "            chain = chain.next\n",
    "        \n",
    "        return chain\n",
    "    \n",
    "    \n",
    "    def peek(self):\n",
    "        highest_priority = self.first;\n",
    "        chain = self.first\n",
    "        while chain:\n",
    "            if highest_priority.time_inside_in_queue == chain.time_inside_in_queue  and \\\n",
    "                chain.time_inside_in_queue > chain.next.time_inside_in_queue:\n",
    "                highest_priority = chain\n",
    "            elif highest_priority.time_inside_in_queue < chain.time_inside_in_queue:\n",
    "                highest_priority = chain\n",
    "\n",
    "            chain = chain.next\n",
    "\n",
    "        return highest_priority\n",
    "            \n",
    "    \n",
    "    def remove_process_more_time(self):\n",
    "        if not self.first:\n",
    "            print(\"Queue empty.\")\n",
    "            return self\n",
    "        \n",
    "        if not self.first.next:\n",
    "            self.first = None\n",
    "            self.last = None\n",
    "            print(\"Queue empty.\")\n",
    "            return \n",
    "        \n",
    "            \n",
    "        chain = self.first\n",
    "        temp_previous = None\n",
    "        self.highest_priority = self.peek()\n",
    "        while chain and chain.number_identifier != self.highest_priority.number_identifier:\n",
    "            temp_previous = chain\n",
    "            self.last = chain.next\n",
    "            chain = chain.next\n",
    "        \n",
    "        temp_front = self.last\n",
    "        temp_previous.next = None\n",
    "        self._lenght = self._lenght - 1\n",
    "        return self\n",
    "                \n",
    "                \n",
    "queue = QueuePriotityProcess(4)"
   ]
  },
  {
   "cell_type": "markdown",
   "id": "c71d02d3",
   "metadata": {},
   "source": [
    "##### a) Incluir novos processos na fila de processo;"
   ]
  },
  {
   "cell_type": "code",
   "execution_count": 289,
   "id": "8cb1776f",
   "metadata": {},
   "outputs": [
    {
     "data": {
      "text/plain": [
       "[122891 -4.999234  -> 122890 -5.999119  -> None]"
      ]
     },
     "execution_count": 289,
     "metadata": {},
     "output_type": "execute_result"
    }
   ],
   "source": [
    "queue.insert_new_process(122890,6)\n",
    "queue.insert_new_process(122891,5)"
   ]
  },
  {
   "cell_type": "code",
   "execution_count": 290,
   "id": "43dff854",
   "metadata": {},
   "outputs": [
    {
     "data": {
      "text/plain": [
       "<__main__.Process at 0x113fcc580>"
      ]
     },
     "execution_count": 290,
     "metadata": {},
     "output_type": "execute_result"
    }
   ],
   "source": [
    "queue.peek()"
   ]
  },
  {
   "cell_type": "markdown",
   "id": "7bc20128",
   "metadata": {},
   "source": [
    "##### b) Retirar da fila o processo com o maior tempo de espera;"
   ]
  },
  {
   "cell_type": "code",
   "execution_count": 291,
   "id": "9382f0ec",
   "metadata": {},
   "outputs": [
    {
     "data": {
      "text/plain": [
       "[122891 -3.551279  -> None]"
      ]
     },
     "execution_count": 291,
     "metadata": {},
     "output_type": "execute_result"
    }
   ],
   "source": [
    "queue.remove_process_more_time()"
   ]
  },
  {
   "cell_type": "markdown",
   "id": "89b77ac7",
   "metadata": {},
   "source": [
    "##### c) Imprimir o conteúdo na fila de processo em determinado momento."
   ]
  },
  {
   "cell_type": "code",
   "execution_count": 292,
   "id": "03a9e0af",
   "metadata": {},
   "outputs": [
    {
     "data": {
      "text/plain": [
       "[122899 -2.999386  -> 122890 -5.999284  -> 122891 -2.491285  -> None]"
      ]
     },
     "execution_count": 292,
     "metadata": {},
     "output_type": "execute_result"
    }
   ],
   "source": [
    "queue.insert_new_process(122890,6)\n",
    "queue.insert_new_process(122899,3)\n",
    "queue"
   ]
  },
  {
   "cell_type": "markdown",
   "id": "31b9b94f",
   "metadata": {},
   "source": [
    "##### Na implementação da Priority Queue  podemos analisar o metodo peek com complexidade O(n) e  $\\Omega(1)$  insert_new_process O(1) e remove O(n) e  $\\Omega(1)$"
   ]
  },
  {
   "cell_type": "markdown",
   "id": "ebfb54bc",
   "metadata": {},
   "source": [
    "##### 15 – Um deque é um conjunto de itens a partir do qual podem ser eliminados e inseridos itens em ambas as extremidades. Chame as duas extremidades de um deque esq e dir. Como um deque pode ser representado como um vetor em C/C++? Escreva quatro funções em C/C++, RemDir, RemEsq, InsDir, InsEsq, para remover e inserir elementos nas extremidades esquerda e direita de um deque. Certifique-se de que as funções funcionem corretamente para o deque vazio e detectem o estouro e o underflow (tentativa de remoção quando a fila está vazia). Quais as desvantagens dessa implementação com relação a implementação por encadeamento/alocação dinâmica?"
   ]
  },
  {
   "cell_type": "code",
   "execution_count": 293,
   "id": "eff2204c",
   "metadata": {},
   "outputs": [],
   "source": [
    "import numbers\n",
    "class Noh:\n",
    "    def __init__(self, data=0, next_noh=None, previous_noh=None):\n",
    "        self.data = data\n",
    "        self.next = next_noh\n",
    "        self.previous = previous_noh\n",
    "    \n",
    "    def __str__(self):\n",
    "        return str(self.data)\n",
    "\n",
    "class Deque:\n",
    "    def __init__(self):\n",
    "        self.head = None\n",
    "        self.tail = None\n",
    "        self._lenght = 0\n",
    "\n",
    "\n",
    "    def __str__(self):\n",
    "        chain = self.head\n",
    "        response = \"\" \n",
    "        while chain:\n",
    "            response += f\" {chain.previous} <- {chain.data} -> {chain.next}| \"\n",
    "            chain = chain.next\n",
    "\n",
    "        return response\n",
    "    \n",
    "    def empty(self):\n",
    "        if not self.head:\n",
    "            return True\n",
    "        return False\n",
    "\n",
    "    def insEsq(self, data):\n",
    "        noh = Noh(data)\n",
    "        \n",
    "        if self.empty():\n",
    "            self.head = noh\n",
    "        else:\n",
    "            noh.next = self.head\n",
    "            self.head.previous = noh\n",
    "            noh.previous = None\n",
    "            self.head = noh\n",
    "        \n",
    "        self.tail = self.get_tail()\n",
    "        self._lenght += 1\n",
    "        return self\n",
    "    \n",
    "    def get_tail(self):\n",
    "        chain = self.head\n",
    "        while chain.next:\n",
    "            chain = chain.next\n",
    "            \n",
    "        return chain\n",
    "    \n",
    "    def insDir(self, data):\n",
    "        noh = Noh(data)\n",
    "        \n",
    "        if self.empty():\n",
    "            self.head = noh\n",
    "            self.tail = noh\n",
    "        else:\n",
    "            self.tail.next = noh\n",
    "            noh.previous = self.tail\n",
    "            noh.next = None\n",
    "            self.tail = noh\n",
    "            \n",
    "        self._lenght += 1\n",
    "        return self\n",
    "\n",
    "    def remDir(self):\n",
    "        if self.empty():\n",
    "            print(\"Deque vazio.\")\n",
    "            return self\n",
    "         \n",
    "        if self.head and self.head.next:\n",
    "            remove_noh = self.tail\n",
    "            new_tail_noh = self.tail.previous\n",
    "            new_tail_noh.next = None\n",
    "            self.tail = new_tail_noh\n",
    "        else:\n",
    "            self.head = None\n",
    "            print(\"Remove Head\")\n",
    "        \n",
    "        return self\n",
    "    \n",
    "    def remEsq(self):\n",
    "        if self.empty():\n",
    "            print(\"Deque vazio.\")\n",
    "            return self\n",
    "         \n",
    "        if self.head and self.head.next:\n",
    "            remove_noh = self.head\n",
    "            new_tail_noh = self.head.next\n",
    "            self.head.previous = None\n",
    "            self.head = new_tail_noh\n",
    "        else:\n",
    "            self.head = None\n",
    "            print(\"Remove Head\")\n",
    "        return self"
   ]
  },
  {
   "cell_type": "code",
   "execution_count": 294,
   "id": "f280808a",
   "metadata": {},
   "outputs": [
    {
     "name": "stdout",
     "output_type": "stream",
     "text": [
      " None <- 5 -> None| \n",
      " None <- 3 -> 5|  3 <- 5 -> None| \n",
      " None <- 1 -> 3|  1 <- 3 -> 5|  3 <- 5 -> None| \n"
     ]
    }
   ],
   "source": [
    "deque = Deque()\n",
    "print(deque.insEsq(5))\n",
    "print(deque.insEsq(3))\n",
    "print(deque.insEsq(1))"
   ]
  },
  {
   "cell_type": "code",
   "execution_count": 295,
   "id": "843d8f72",
   "metadata": {},
   "outputs": [
    {
     "name": "stdout",
     "output_type": "stream",
     "text": [
      " None <- 1 -> 3|  1 <- 3 -> None| \n",
      " None <- 1 -> None| \n",
      "Remove Head\n",
      "\n"
     ]
    }
   ],
   "source": [
    "print(deque.remDir())\n",
    "print(deque.remDir())\n",
    "print(deque.remDir())"
   ]
  },
  {
   "cell_type": "code",
   "execution_count": 296,
   "id": "053451ff",
   "metadata": {},
   "outputs": [
    {
     "name": "stdout",
     "output_type": "stream",
     "text": [
      " None <- 5 -> None| \n",
      " None <- 5 -> 3|  5 <- 3 -> None| \n",
      " None <- 5 -> 3|  5 <- 3 -> 1|  3 <- 1 -> None| \n"
     ]
    }
   ],
   "source": [
    "deque = Deque()\n",
    "print(deque.insDir(5))\n",
    "print(deque.insDir(3))\n",
    "print(deque.insDir(1))"
   ]
  },
  {
   "cell_type": "code",
   "execution_count": 297,
   "id": "07bd8ef7",
   "metadata": {
    "scrolled": true
   },
   "outputs": [
    {
     "name": "stdout",
     "output_type": "stream",
     "text": [
      " 5 <- 3 -> 1|  3 <- 1 -> None| \n",
      " 3 <- 1 -> None| \n",
      "Remove Head\n",
      "\n"
     ]
    }
   ],
   "source": [
    "print(deque.remEsq())\n",
    "print(deque.remEsq())\n",
    "print(deque.remEsq())"
   ]
  },
  {
   "cell_type": "markdown",
   "id": "85f052f5",
   "metadata": {},
   "source": [
    "##### Na implementação da Double Ended Queue (ou Deque) podemos analisar a complexidade de tempo de todas as operações deque em O (1) de insercao / delecao"
   ]
  }
 ],
 "metadata": {
  "kernelspec": {
   "display_name": "Python 3 (ipykernel)",
   "language": "python",
   "name": "python3"
  },
  "language_info": {
   "codemirror_mode": {
    "name": "ipython",
    "version": 3
   },
   "file_extension": ".py",
   "mimetype": "text/x-python",
   "name": "python",
   "nbconvert_exporter": "python",
   "pygments_lexer": "ipython3",
   "version": "3.8.0"
  }
 },
 "nbformat": 4,
 "nbformat_minor": 5
}
